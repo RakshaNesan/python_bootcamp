{
 "cells": [
  {
   "cell_type": "code",
   "execution_count": 1,
   "id": "dcc12c88",
   "metadata": {},
   "outputs": [],
   "source": [
    "new_var_1='im from batti'"
   ]
  },
  {
   "cell_type": "code",
   "execution_count": 2,
   "id": "fd7fcad1",
   "metadata": {},
   "outputs": [
    {
     "data": {
      "text/plain": [
       "' rm'"
      ]
     },
     "execution_count": 2,
     "metadata": {},
     "output_type": "execute_result"
    }
   ],
   "source": [
    "new_var_1[2:8:2]"
   ]
  },
  {
   "cell_type": "code",
   "execution_count": 3,
   "id": "0345e78b",
   "metadata": {},
   "outputs": [],
   "source": [
    "marks=59"
   ]
  },
  {
   "cell_type": "code",
   "execution_count": 4,
   "id": "832fb9dd",
   "metadata": {},
   "outputs": [
    {
     "name": "stdout",
     "output_type": "stream",
     "text": [
      "Fail\n"
     ]
    }
   ],
   "source": [
    "if (marks>60):\n",
    "    print('Pass')\n",
    "else:\n",
    "    print('Fail')\n",
    "\n",
    " "
   ]
  },
  {
   "cell_type": "code",
   "execution_count": 8,
   "id": "a92c5b76",
   "metadata": {},
   "outputs": [
    {
     "name": "stdout",
     "output_type": "stream",
     "text": [
      "You are above age\n"
     ]
    }
   ],
   "source": [
    "marks=59\n",
    "age=23\n",
    "if age<20:\n",
    "    if marks>60:\n",
    "        print('Pass')\n",
    "    else:\n",
    "        print('Fail')\n",
    "else:\n",
    "    print('You are above age')\n"
   ]
  },
  {
   "cell_type": "code",
   "execution_count": 11,
   "id": "3ebad20e",
   "metadata": {},
   "outputs": [],
   "source": [
    "new_list=['a','b','c']"
   ]
  },
  {
   "cell_type": "code",
   "execution_count": null,
   "id": "c7f9a181",
   "metadata": {},
   "outputs": [],
   "source": [
    "for item_name in my_sequance:\n",
    "    print(item_name)\n"
   ]
  },
  {
   "cell_type": "code",
   "execution_count": 15,
   "id": "64644bfb",
   "metadata": {},
   "outputs": [
    {
     "name": "stdout",
     "output_type": "stream",
     "text": [
      "a\n",
      "hi\n",
      "b\n",
      "hi\n",
      "c\n",
      "hi\n"
     ]
    }
   ],
   "source": [
    "for str_value in new_list:\n",
    "    print(str_value)\n",
    "    print('hi')"
   ]
  },
  {
   "cell_type": "code",
   "execution_count": 21,
   "id": "b23a5509",
   "metadata": {},
   "outputs": [],
   "source": [
    "num_list=[1,2,3,4,5]"
   ]
  },
  {
   "cell_type": "code",
   "execution_count": 22,
   "id": "f3b7dc7d",
   "metadata": {},
   "outputs": [
    {
     "name": "stdout",
     "output_type": "stream",
     "text": [
      "odd number:1\n",
      "even number:2\n",
      "odd number:3\n",
      "even number:4\n",
      "odd number:5\n"
     ]
    }
   ],
   "source": [
    "for my_int in num_list:\n",
    "    if my_int%2 ==0:\n",
    "        print(f'even number:{my_int}')\n",
    "    else:\n",
    "         print(f'odd number:{my_int}')\n",
    "        \n",
    "        "
   ]
  },
  {
   "cell_type": "code",
   "execution_count": 31,
   "id": "5a70ed3d",
   "metadata": {},
   "outputs": [
    {
     "name": "stdout",
     "output_type": "stream",
     "text": [
      "total=15\n"
     ]
    }
   ],
   "source": [
    "total=0\n",
    "for num in num_list:\n",
    "    #total=total+num\n",
    "    total += num\n",
    "print(f'total={total}')\n",
    "    \n"
   ]
  },
  {
   "cell_type": "code",
   "execution_count": 32,
   "id": "c99b28e9",
   "metadata": {},
   "outputs": [
    {
     "name": "stdout",
     "output_type": "stream",
     "text": [
      "H\n",
      "i\n",
      " \n",
      "D\n",
      "a\n",
      "v\n",
      "i\n",
      "d\n"
     ]
    }
   ],
   "source": [
    "for str_val in 'Hi David':\n",
    "    print(str_val)"
   ]
  },
  {
   "cell_type": "code",
   "execution_count": 35,
   "id": "9864a230",
   "metadata": {},
   "outputs": [
    {
     "name": "stdout",
     "output_type": "stream",
     "text": [
      "2\n",
      "3\n",
      "6\n"
     ]
    }
   ],
   "source": [
    "for tuple_val in (2,3,6):\n",
    "    print(tuple_val)"
   ]
  },
  {
   "cell_type": "code",
   "execution_count": 36,
   "id": "e2d5a6b5",
   "metadata": {},
   "outputs": [],
   "source": [
    "my_tuple_list = [(1,2),(3,4),(5,6)]"
   ]
  },
  {
   "cell_type": "code",
   "execution_count": 37,
   "id": "b2af793c",
   "metadata": {},
   "outputs": [
    {
     "name": "stdout",
     "output_type": "stream",
     "text": [
      "3\n",
      "7\n",
      "11\n"
     ]
    }
   ],
   "source": [
    "for (a,b) in my_tuple_list:\n",
    "    print(a + b)"
   ]
  },
  {
   "cell_type": "code",
   "execution_count": 38,
   "id": "84ae51fd",
   "metadata": {},
   "outputs": [
    {
     "name": "stdout",
     "output_type": "stream",
     "text": [
      "1\n",
      "3\n",
      "5\n"
     ]
    }
   ],
   "source": [
    "for (a,b) in my_tuple_list:\n",
    "    print(a)"
   ]
  },
  {
   "cell_type": "code",
   "execution_count": 39,
   "id": "04332aaa",
   "metadata": {},
   "outputs": [
    {
     "name": "stdout",
     "output_type": "stream",
     "text": [
      "2\n",
      "4\n",
      "6\n"
     ]
    }
   ],
   "source": [
    "for (a,b) in my_tuple_list:\n",
    "    print(b)"
   ]
  },
  {
   "cell_type": "code",
   "execution_count": 40,
   "id": "7b411edd",
   "metadata": {},
   "outputs": [
    {
     "name": "stdout",
     "output_type": "stream",
     "text": [
      "1\n",
      "1\n",
      "1\n"
     ]
    }
   ],
   "source": [
    "for (a,b) in my_tuple_list:\n",
    "    print(b-a)"
   ]
  },
  {
   "cell_type": "code",
   "execution_count": 41,
   "id": "ad1f8a32",
   "metadata": {},
   "outputs": [
    {
     "name": "stdout",
     "output_type": "stream",
     "text": [
      "1\n",
      "2\n",
      "3\n",
      "4\n",
      "5\n",
      "6\n"
     ]
    }
   ],
   "source": [
    "for (a,b) in my_tuple_list:\n",
    "    print(a)\n",
    "    print(b)"
   ]
  },
  {
   "cell_type": "code",
   "execution_count": 63,
   "id": "6ac35a57",
   "metadata": {},
   "outputs": [],
   "source": [
    "my_dict={'key_1':1,'key_2':2,'key_3':3}"
   ]
  },
  {
   "cell_type": "code",
   "execution_count": 64,
   "id": "bbfbacfc",
   "metadata": {},
   "outputs": [
    {
     "name": "stdout",
     "output_type": "stream",
     "text": [
      "1\n",
      "2\n",
      "3\n"
     ]
    }
   ],
   "source": [
    "for var_key in my_dict:\n",
    "    print(my_dict[var_key])"
   ]
  },
  {
   "cell_type": "code",
   "execution_count": 65,
   "id": "f2ef1d91",
   "metadata": {},
   "outputs": [
    {
     "name": "stdout",
     "output_type": "stream",
     "text": [
      "key_1:1\n",
      "key_2:2\n",
      "key_3:3\n"
     ]
    }
   ],
   "source": [
    "for (key,val) in my_dict.items():\n",
    "    print(key + ':'+ str(val))"
   ]
  },
  {
   "cell_type": "code",
   "execution_count": 67,
   "id": "3ab07389",
   "metadata": {},
   "outputs": [
    {
     "data": {
      "text/plain": [
       "dict_items([('key_1', 1), ('key_2', 2), ('key_3', 3)])"
      ]
     },
     "execution_count": 67,
     "metadata": {},
     "output_type": "execute_result"
    }
   ],
   "source": [
    "my_dict.items()"
   ]
  },
  {
   "cell_type": "code",
   "execution_count": 68,
   "id": "7bab2347",
   "metadata": {},
   "outputs": [],
   "source": [
    "num_list=[1,2,3,4,5]"
   ]
  },
  {
   "cell_type": "code",
   "execution_count": 72,
   "id": "797d3fed",
   "metadata": {},
   "outputs": [
    {
     "name": "stdout",
     "output_type": "stream",
     "text": [
      "1\n",
      "2\n"
     ]
    }
   ],
   "source": [
    "for num in num_list:\n",
    "    if num==3:\n",
    "        break\n",
    "    print(num)\n",
    " "
   ]
  },
  {
   "cell_type": "code",
   "execution_count": 74,
   "id": "b5640b61",
   "metadata": {},
   "outputs": [
    {
     "name": "stdout",
     "output_type": "stream",
     "text": [
      "1\n",
      "2\n",
      "4\n",
      "5\n"
     ]
    }
   ],
   "source": [
    "\n",
    "for num in num_list:\n",
    "    if num==3:\n",
    "        continue\n",
    "    print(num)\n",
    "\n",
    "   \n",
    " "
   ]
  },
  {
   "cell_type": "code",
   "execution_count": 85,
   "id": "13515feb",
   "metadata": {},
   "outputs": [
    {
     "name": "stdout",
     "output_type": "stream",
     "text": [
      "1\n",
      "2\n",
      "3\n",
      "4\n",
      "5\n",
      "5\n",
      "loop finished\n"
     ]
    }
   ],
   "source": [
    "for num in num_list:\n",
    "    print(num)\n",
    "else:\n",
    "    print(num)\n",
    "    print('loop finished')\n",
    "\n",
    "    \n",
    "    \n",
    "\n",
    "  \n",
    "  \n",
    "   \n",
    " "
   ]
  },
  {
   "cell_type": "code",
   "execution_count": 86,
   "id": "f92160c5",
   "metadata": {},
   "outputs": [
    {
     "name": "stdout",
     "output_type": "stream",
     "text": [
      "1\n",
      "2\n",
      "3\n",
      "4\n",
      "5\n"
     ]
    }
   ],
   "source": [
    "for num in num_list:\n",
    "    print(num)\n"
   ]
  },
  {
   "cell_type": "code",
   "execution_count": 87,
   "id": "adf6362f",
   "metadata": {},
   "outputs": [
    {
     "name": "stdout",
     "output_type": "stream",
     "text": [
      "1\n",
      "2\n",
      "3\n"
     ]
    }
   ],
   "source": [
    "for num in num_list:\n",
    "    print(num)\n",
    "    if num == 3:\n",
    "        break\n",
    "else:\n",
    "    print('else part')"
   ]
  },
  {
   "cell_type": "code",
   "execution_count": 88,
   "id": "ff7e0dcb",
   "metadata": {},
   "outputs": [
    {
     "name": "stdout",
     "output_type": "stream",
     "text": [
      "1\n",
      "2\n",
      "3\n",
      "4\n",
      "5\n",
      "else part\n"
     ]
    }
   ],
   "source": [
    "for num in num_list:\n",
    "    print(num)\n",
    "    if num == 6:\n",
    "        break\n",
    "else:\n",
    "    print('else part')"
   ]
  },
  {
   "cell_type": "code",
   "execution_count": 91,
   "id": "e2f6f785",
   "metadata": {},
   "outputs": [
    {
     "name": "stdout",
     "output_type": "stream",
     "text": [
      "redapple\n",
      "redbanana\n",
      "redcherry\n",
      "blueapple\n",
      "bluebanana\n",
      "bluecherry\n",
      "greenapple\n",
      "greenbanana\n",
      "greencherry\n"
     ]
    }
   ],
   "source": [
    "adj=['red','blue','green']\n",
    "fruits=['apple','banana','cherry']\n",
    "for x in adj:\n",
    "    for y in fruits:\n",
    "        print (x+y)"
   ]
  },
  {
   "cell_type": "code",
   "execution_count": 92,
   "id": "7a0f54ab",
   "metadata": {},
   "outputs": [
    {
     "name": "stdout",
     "output_type": "stream",
     "text": [
      "redapple\n",
      "blueapple\n",
      "greenapple\n"
     ]
    }
   ],
   "source": [
    "adj=['red','blue','green']\n",
    "fruits=['apple','banana','cherry']\n",
    "for x in adj:\n",
    "    for y in fruits:\n",
    "        if fruits[1] == y:\n",
    "            break\n",
    "        print (x+y)"
   ]
  },
  {
   "cell_type": "code",
   "execution_count": 93,
   "id": "3c1e5034",
   "metadata": {},
   "outputs": [
    {
     "name": "stdout",
     "output_type": "stream",
     "text": [
      "red\n",
      "blue\n",
      "green\n"
     ]
    }
   ],
   "source": [
    "for x in adj:\n",
    "    print(x)\n",
    "    for y in fruits:\n",
    "        pass"
   ]
  },
  {
   "cell_type": "code",
   "execution_count": 1,
   "id": "32268b93",
   "metadata": {},
   "outputs": [
    {
     "name": "stdout",
     "output_type": "stream",
     "text": [
      "x is 1\n",
      "x is 2\n",
      "x is 4\n",
      "x is 5\n"
     ]
    }
   ],
   "source": [
    "x=0\n",
    "while x<5:\n",
    "    x+=1\n",
    "    if x==3:\n",
    "        continue\n",
    "    print(f'x is {x}')"
   ]
  },
  {
   "cell_type": "code",
   "execution_count": 1,
   "id": "773374a2",
   "metadata": {},
   "outputs": [
    {
     "name": "stdout",
     "output_type": "stream",
     "text": [
      "0\n",
      "2\n",
      "4\n"
     ]
    }
   ],
   "source": [
    "for num in range(0,5,2):  #start,stop,step\n",
    "    print(num)"
   ]
  },
  {
   "cell_type": "code",
   "execution_count": 3,
   "id": "18c00f07",
   "metadata": {},
   "outputs": [
    {
     "name": "stdout",
     "output_type": "stream",
     "text": [
      "<class 'range'>\n"
     ]
    }
   ],
   "source": [
    "print(type(range(0,5,2)))"
   ]
  },
  {
   "cell_type": "code",
   "execution_count": 4,
   "id": "33ffcb57",
   "metadata": {},
   "outputs": [
    {
     "name": "stdout",
     "output_type": "stream",
     "text": [
      "[0, 2, 4]\n"
     ]
    }
   ],
   "source": [
    "print(list(range(0,5,2)))"
   ]
  },
  {
   "cell_type": "code",
   "execution_count": 5,
   "id": "c28d4859",
   "metadata": {},
   "outputs": [
    {
     "name": "stdout",
     "output_type": "stream",
     "text": [
      "[(0, 'r'), (1, 'a'), (2, 'j'), (3, 'a'), (4, 'h')]\n"
     ]
    }
   ],
   "source": [
    "print(list(enumerate('rajah')))"
   ]
  },
  {
   "cell_type": "code",
   "execution_count": 7,
   "id": "86526f43",
   "metadata": {},
   "outputs": [
    {
     "name": "stdout",
     "output_type": "stream",
     "text": [
      "[(0, 1), (1, 2), (2, 5)]\n"
     ]
    }
   ],
   "source": [
    "print(list(enumerate([1,2,5])))"
   ]
  },
  {
   "cell_type": "code",
   "execution_count": 11,
   "id": "a6a66613",
   "metadata": {},
   "outputs": [
    {
     "name": "stdout",
     "output_type": "stream",
     "text": [
      "0:1\n",
      "1:2\n",
      "2:5\n"
     ]
    }
   ],
   "source": [
    "for (position,value) in enumerate([1,2,5]):\n",
    "    print(str(position) + ':' + str(value))"
   ]
  },
  {
   "cell_type": "code",
   "execution_count": 12,
   "id": "2c654577",
   "metadata": {},
   "outputs": [
    {
     "name": "stdout",
     "output_type": "stream",
     "text": [
      "[(0, 'a'), (1, 'p'), (2, 'p'), (3, 'l'), (4, 'e')]\n"
     ]
    }
   ],
   "source": [
    "print(list(enumerate('apple')))"
   ]
  },
  {
   "cell_type": "code",
   "execution_count": 22,
   "id": "2444883f",
   "metadata": {},
   "outputs": [],
   "source": [
    "list_1 = [1,2,3,4,5]\n",
    "list_2 = ['a','b','c']\n",
    "list_3 = [100,200,300]\n"
   ]
  },
  {
   "cell_type": "code",
   "execution_count": 23,
   "id": "26f9a47a",
   "metadata": {},
   "outputs": [
    {
     "name": "stdout",
     "output_type": "stream",
     "text": [
      "<class 'zip'>\n"
     ]
    }
   ],
   "source": [
    "print(type(zip(list_1,list_2,list_3)))"
   ]
  },
  {
   "cell_type": "code",
   "execution_count": 24,
   "id": "979a17c2",
   "metadata": {},
   "outputs": [
    {
     "name": "stdout",
     "output_type": "stream",
     "text": [
      "[(1, 'a', 100), (2, 'b', 200), (3, 'c', 300)]\n"
     ]
    }
   ],
   "source": [
    "print(list(zip(list_1,list_2,list_3)))"
   ]
  },
  {
   "cell_type": "code",
   "execution_count": 25,
   "id": "17397c7d",
   "metadata": {},
   "outputs": [
    {
     "name": "stdout",
     "output_type": "stream",
     "text": [
      "a\n",
      "b\n",
      "c\n"
     ]
    }
   ],
   "source": [
    "for p1,p2,p3 in zip(list_1,list_2,list_3):\n",
    "    print(p2)"
   ]
  },
  {
   "cell_type": "code",
   "execution_count": 26,
   "id": "078f4981",
   "metadata": {},
   "outputs": [
    {
     "data": {
      "text/plain": [
       "True"
      ]
     },
     "execution_count": 26,
     "metadata": {},
     "output_type": "execute_result"
    }
   ],
   "source": [
    "2 in [1,2,4,6]"
   ]
  },
  {
   "cell_type": "code",
   "execution_count": 27,
   "id": "89cb8872",
   "metadata": {},
   "outputs": [
    {
     "data": {
      "text/plain": [
       "False"
      ]
     },
     "execution_count": 27,
     "metadata": {},
     "output_type": "execute_result"
    }
   ],
   "source": [
    "2 in [1,4,6]"
   ]
  },
  {
   "cell_type": "code",
   "execution_count": 28,
   "id": "39a6610f",
   "metadata": {},
   "outputs": [
    {
     "data": {
      "text/plain": [
       "True"
      ]
     },
     "execution_count": 28,
     "metadata": {},
     "output_type": "execute_result"
    }
   ],
   "source": [
    "'r' in 'rajah'"
   ]
  },
  {
   "cell_type": "code",
   "execution_count": 29,
   "id": "974e05aa",
   "metadata": {},
   "outputs": [
    {
     "data": {
      "text/plain": [
       "False"
      ]
     },
     "execution_count": 29,
     "metadata": {},
     "output_type": "execute_result"
    }
   ],
   "source": [
    "'p' in 'rajah'"
   ]
  },
  {
   "cell_type": "code",
   "execution_count": 30,
   "id": "2096fbc6",
   "metadata": {},
   "outputs": [
    {
     "data": {
      "text/plain": [
       "True"
      ]
     },
     "execution_count": 30,
     "metadata": {},
     "output_type": "execute_result"
    }
   ],
   "source": [
    "2 not in [1,4,6]"
   ]
  },
  {
   "cell_type": "code",
   "execution_count": 33,
   "id": "06242ea5",
   "metadata": {},
   "outputs": [
    {
     "name": "stdout",
     "output_type": "stream",
     "text": [
      "not in list\n"
     ]
    }
   ],
   "source": [
    "if 2 not in [1,4,6]:              \n",
    "    print('not in list')\n"
   ]
  },
  {
   "cell_type": "code",
   "execution_count": 34,
   "id": "df34b282",
   "metadata": {},
   "outputs": [
    {
     "data": {
      "text/plain": [
       "True"
      ]
     },
     "execution_count": 34,
     "metadata": {},
     "output_type": "execute_result"
    }
   ],
   "source": [
    "'mykey' in {'mykey':5,'nextkey':6}                      "
   ]
  },
  {
   "cell_type": "code",
   "execution_count": 35,
   "id": "23a18d35",
   "metadata": {},
   "outputs": [
    {
     "data": {
      "text/plain": [
       "False"
      ]
     },
     "execution_count": 35,
     "metadata": {},
     "output_type": "execute_result"
    }
   ],
   "source": [
    "'mykey' in {'mykeys':5,'nextkey':6}"
   ]
  },
  {
   "cell_type": "code",
   "execution_count": 36,
   "id": "7e4dabef",
   "metadata": {},
   "outputs": [
    {
     "data": {
      "text/plain": [
       "-6"
      ]
     },
     "execution_count": 36,
     "metadata": {},
     "output_type": "execute_result"
    }
   ],
   "source": [
    "min([1,-6,3,5,2])"
   ]
  },
  {
   "cell_type": "code",
   "execution_count": 37,
   "id": "78b3f4ea",
   "metadata": {},
   "outputs": [
    {
     "data": {
      "text/plain": [
       "5"
      ]
     },
     "execution_count": 37,
     "metadata": {},
     "output_type": "execute_result"
    }
   ],
   "source": [
    "max([1,-6,3,5,2])"
   ]
  },
  {
   "cell_type": "code",
   "execution_count": null,
   "id": "0f818cf3",
   "metadata": {},
   "outputs": [],
   "source": [
    "input('Please give any number:')"
   ]
  },
  {
   "cell_type": "code",
   "execution_count": 39,
   "id": "c6e3a923",
   "metadata": {},
   "outputs": [
    {
     "name": "stdout",
     "output_type": "stream",
     "text": [
      "Please give any number:55\n"
     ]
    }
   ],
   "source": [
    "var_in=input('Please give any number:')"
   ]
  },
  {
   "cell_type": "code",
   "execution_count": 41,
   "id": "c1ec9b0b",
   "metadata": {},
   "outputs": [
    {
     "name": "stdout",
     "output_type": "stream",
     "text": [
      "55\n"
     ]
    }
   ],
   "source": [
    "print(var_in)"
   ]
  },
  {
   "cell_type": "code",
   "execution_count": null,
   "id": "8f453136",
   "metadata": {},
   "outputs": [],
   "source": [
    "type(var_in)"
   ]
  },
  {
   "cell_type": "code",
   "execution_count": 1,
   "id": "5c4a4df1",
   "metadata": {},
   "outputs": [
    {
     "name": "stdout",
     "output_type": "stream",
     "text": [
      "pls provide 1st num:3\n",
      "pls provide 2nd num:5\n"
     ]
    }
   ],
   "source": [
    "var_1st = input('pls provide 1st num:')\n",
    "var_2nd = input('pls provide 2nd num:')"
   ]
  },
  {
   "cell_type": "code",
   "execution_count": 2,
   "id": "4263858f",
   "metadata": {},
   "outputs": [
    {
     "name": "stdout",
     "output_type": "stream",
     "text": [
      "35\n"
     ]
    }
   ],
   "source": [
    "print(var_1st + var_2nd)"
   ]
  },
  {
   "cell_type": "code",
   "execution_count": 3,
   "id": "9f345697",
   "metadata": {},
   "outputs": [
    {
     "name": "stdout",
     "output_type": "stream",
     "text": [
      "8\n"
     ]
    }
   ],
   "source": [
    "print(int(var_1st) + int(var_2nd))"
   ]
  },
  {
   "cell_type": "code",
   "execution_count": 11,
   "id": "ef6b36f1",
   "metadata": {},
   "outputs": [
    {
     "name": "stdout",
     "output_type": "stream",
     "text": [
      "None\n"
     ]
    }
   ],
   "source": [
    "from random import shuffle\n",
    "my_list = [1,2,3,4,5,6]\n",
    "print(shuffle(my_list))"
   ]
  },
  {
   "cell_type": "code",
   "execution_count": 12,
   "id": "92e5e40e",
   "metadata": {},
   "outputs": [
    {
     "name": "stdout",
     "output_type": "stream",
     "text": [
      "[6, 4, 5, 1, 2, 3]\n"
     ]
    }
   ],
   "source": [
    "print(my_list)"
   ]
  },
  {
   "cell_type": "code",
   "execution_count": 1,
   "id": "2469dfa6",
   "metadata": {},
   "outputs": [
    {
     "data": {
      "text/plain": [
       "9"
      ]
     },
     "execution_count": 1,
     "metadata": {},
     "output_type": "execute_result"
    }
   ],
   "source": [
    "from random import randint\n",
    "\n",
    "randint(0,50)"
   ]
  },
  {
   "cell_type": "code",
   "execution_count": 2,
   "id": "b4bb67b7",
   "metadata": {},
   "outputs": [],
   "source": [
    "mystring = 'rajah'"
   ]
  },
  {
   "cell_type": "code",
   "execution_count": 3,
   "id": "149bc3b6",
   "metadata": {},
   "outputs": [],
   "source": [
    "mylist = []"
   ]
  },
  {
   "cell_type": "code",
   "execution_count": 24,
   "id": "5ed19039",
   "metadata": {},
   "outputs": [],
   "source": [
    "for char in mystring:\n",
    "    mylist.append(char)"
   ]
  },
  {
   "cell_type": "code",
   "execution_count": 6,
   "id": "f6b49b03",
   "metadata": {},
   "outputs": [],
   "source": [
    "my_new_list = [letter for letter in mystring]"
   ]
  },
  {
   "cell_type": "code",
   "execution_count": 7,
   "id": "34cf0fda",
   "metadata": {},
   "outputs": [
    {
     "data": {
      "text/plain": [
       "['r', 'a', 'j', 'a', 'h']"
      ]
     },
     "execution_count": 7,
     "metadata": {},
     "output_type": "execute_result"
    }
   ],
   "source": [
    "my_new_list"
   ]
  },
  {
   "cell_type": "code",
   "execution_count": 11,
   "id": "61f07226",
   "metadata": {},
   "outputs": [],
   "source": [
    "my_new_list = [letter+'2' for letter in mystring]"
   ]
  },
  {
   "cell_type": "code",
   "execution_count": 12,
   "id": "180d9af1",
   "metadata": {},
   "outputs": [
    {
     "data": {
      "text/plain": [
       "['r2', 'a2', 'j2', 'a2', 'h2']"
      ]
     },
     "execution_count": 12,
     "metadata": {},
     "output_type": "execute_result"
    }
   ],
   "source": [
    "my_new_list"
   ]
  },
  {
   "cell_type": "code",
   "execution_count": 26,
   "id": "ccf68bb6",
   "metadata": {},
   "outputs": [],
   "source": [
    "my_new_list = [letter+'2' for letter in mystring if letter!= 'a']"
   ]
  },
  {
   "cell_type": "code",
   "execution_count": 27,
   "id": "8727c88e",
   "metadata": {},
   "outputs": [
    {
     "data": {
      "text/plain": [
       "['r2', 'j2', 'h2']"
      ]
     },
     "execution_count": 27,
     "metadata": {},
     "output_type": "execute_result"
    }
   ],
   "source": [
    "my_new_list"
   ]
  },
  {
   "cell_type": "code",
   "execution_count": 29,
   "id": "7d2fe2e3",
   "metadata": {},
   "outputs": [],
   "source": [
    "celcius = [0,10,20,31.4]\n",
    "farenheit = [((9/5)*celci+32) for celci in celcius]"
   ]
  },
  {
   "cell_type": "code",
   "execution_count": 30,
   "id": "3efbba5b",
   "metadata": {},
   "outputs": [
    {
     "name": "stdout",
     "output_type": "stream",
     "text": [
      "[32.0, 50.0, 68.0, 88.52]\n"
     ]
    }
   ],
   "source": [
    "print(farenheit)"
   ]
  },
  {
   "cell_type": "code",
   "execution_count": null,
   "id": "308d24c8",
   "metadata": {},
   "outputs": [],
   "source": []
  }
 ],
 "metadata": {
  "kernelspec": {
   "display_name": "Python 3 (ipykernel)",
   "language": "python",
   "name": "python3"
  },
  "language_info": {
   "codemirror_mode": {
    "name": "ipython",
    "version": 3
   },
   "file_extension": ".py",
   "mimetype": "text/x-python",
   "name": "python",
   "nbconvert_exporter": "python",
   "pygments_lexer": "ipython3",
   "version": "3.9.7"
  }
 },
 "nbformat": 4,
 "nbformat_minor": 5
}
