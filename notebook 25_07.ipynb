{
 "cells": [
  {
   "cell_type": "markdown",
   "id": "0181ea00",
   "metadata": {},
   "source": [
    "Use for, .split(), and if to create a Statement that will print out words that start with 't':\n"
   ]
  },
  {
   "cell_type": "code",
   "execution_count": 11,
   "id": "099bbfbc",
   "metadata": {},
   "outputs": [],
   "source": [
    "st = 'Print only the words that start with skk ins this sentence'"
   ]
  },
  {
   "cell_type": "code",
   "execution_count": 3,
   "id": "57ea382a",
   "metadata": {},
   "outputs": [
    {
     "data": {
      "text/plain": [
       "['Print only the wor', 's that start with s in this sentence']"
      ]
     },
     "execution_count": 3,
     "metadata": {},
     "output_type": "execute_result"
    }
   ],
   "source": [
    "st.split('d')"
   ]
  },
  {
   "cell_type": "code",
   "execution_count": 6,
   "id": "d50bd4f7",
   "metadata": {},
   "outputs": [
    {
     "data": {
      "text/plain": [
       "['Print',\n",
       " 'only',\n",
       " 'the',\n",
       " 'words',\n",
       " 'that',\n",
       " 'start',\n",
       " 'with',\n",
       " 's',\n",
       " 'in',\n",
       " 'this',\n",
       " 'sentence']"
      ]
     },
     "execution_count": 6,
     "metadata": {},
     "output_type": "execute_result"
    }
   ],
   "source": [
    "st.split(' ')"
   ]
  },
  {
   "cell_type": "code",
   "execution_count": 13,
   "id": "28388ee2",
   "metadata": {},
   "outputs": [
    {
     "data": {
      "text/plain": [
       "['Print',\n",
       " 'only',\n",
       " 'the',\n",
       " 'words',\n",
       " 'that',\n",
       " 'start',\n",
       " 'with',\n",
       " 'skk',\n",
       " 'ins',\n",
       " 'this',\n",
       " 'sentence']"
      ]
     },
     "execution_count": 13,
     "metadata": {},
     "output_type": "execute_result"
    }
   ],
   "source": [
    "st.split()"
   ]
  },
  {
   "cell_type": "code",
   "execution_count": 12,
   "id": "108de332",
   "metadata": {},
   "outputs": [
    {
     "name": "stdout",
     "output_type": "stream",
     "text": [
      "ins\n"
     ]
    }
   ],
   "source": [
    "for a in st.split(' '):\n",
    "    if a[2] == 's':\n",
    "        print(a)\n",
    "    "
   ]
  },
  {
   "cell_type": "markdown",
   "id": "15613314",
   "metadata": {},
   "source": [
    "Use for, .split(),  create a Statement that will print out \"my favourite fruit is 'xxxxx'\""
   ]
  },
  {
   "cell_type": "code",
   "execution_count": 15,
   "id": "0e9f1bfe",
   "metadata": {},
   "outputs": [],
   "source": [
    "fruit_str = 'apple,banana,orange and grapes'"
   ]
  },
  {
   "cell_type": "markdown",
   "id": "0cef5d3b",
   "metadata": {},
   "source": [
    "my favourite fruit is 'apple'\n",
    "my favourite fruit is 'banana'\n",
    "my favourite fruit is 'grapes'"
   ]
  },
  {
   "cell_type": "code",
   "execution_count": 16,
   "id": "262adb9f",
   "metadata": {},
   "outputs": [
    {
     "ename": "SyntaxError",
     "evalue": "invalid syntax (1313985232.py, line 1)",
     "output_type": "error",
     "traceback": [
      "\u001b[1;36m  Input \u001b[1;32mIn [16]\u001b[1;36m\u001b[0m\n\u001b[1;33m    for a in fruit_str.split()\u001b[0m\n\u001b[1;37m                              ^\u001b[0m\n\u001b[1;31mSyntaxError\u001b[0m\u001b[1;31m:\u001b[0m invalid syntax\n"
     ]
    }
   ],
   "source": [
    "for a in fruit_str.split()\n",
    "    if a[2] != orange\n",
    "        print('my favourite fruit is: ')"
   ]
  },
  {
   "cell_type": "code",
   "execution_count": 31,
   "id": "ca2c2f49",
   "metadata": {},
   "outputs": [
    {
     "name": "stdout",
     "output_type": "stream",
     "text": [
      "a\n",
      "p\n",
      "p\n",
      "l\n",
      "e\n",
      ",\n",
      "b\n",
      "a\n",
      "n\n",
      "a\n",
      "n\n",
      "a\n",
      ",\n",
      "o\n",
      "r\n",
      "a\n",
      "n\n",
      "g\n",
      "e\n",
      " \n",
      "a\n",
      "n\n",
      "d\n",
      " \n",
      "g\n",
      "r\n",
      "a\n",
      "p\n",
      "e\n",
      "s\n"
     ]
    }
   ],
   "source": [
    "for x in fruit_str:\n",
    "    if x == 'Orange':\n",
    "        continue\n",
    "print(f'My favourit fruit is+ {x}')\n"
   ]
  },
  {
   "cell_type": "code",
   "execution_count": 18,
   "id": "a65a2449",
   "metadata": {},
   "outputs": [],
   "source": [
    "fruit_str = 'apple,banana,orange and grapes'\n"
   ]
  },
  {
   "cell_type": "code",
   "execution_count": 21,
   "id": "92200b92",
   "metadata": {},
   "outputs": [
    {
     "name": "stdout",
     "output_type": "stream",
     "text": [
      "apple\n",
      "banana\n",
      "orange and grapes\n"
     ]
    }
   ],
   "source": [
    "for fruit in fruit_str.split(','):\n",
    "    print (fruit)"
   ]
  },
  {
   "cell_type": "code",
   "execution_count": 32,
   "id": "8e95eab9",
   "metadata": {},
   "outputs": [
    {
     "name": "stdout",
     "output_type": "stream",
     "text": [
      "My favourit fruit is apple\n",
      "My favourit fruit is orange\n",
      "My favourit fruit is grapes\n"
     ]
    }
   ],
   "source": [
    "for fruit in fruit_str.split(','):\n",
    "    if ' and ' in fruit:\n",
    "        for fr in fruit.split(' and '):\n",
    "            if fr!='banana':\n",
    "                print(f'My favourit fruit is {fr}')\n",
    "    else:\n",
    "        if fruit!='banana':\n",
    "                print(f'My favourit fruit is {fruit}')\n",
    "        "
   ]
  },
  {
   "cell_type": "markdown",
   "id": "529ddc15",
   "metadata": {},
   "source": [
    "Use range() to print all the even numbers from 10 to 20."
   ]
  },
  {
   "cell_type": "code",
   "execution_count": 35,
   "id": "01bf854a",
   "metadata": {},
   "outputs": [
    {
     "data": {
      "text/plain": [
       "range(10, 21, 3)"
      ]
     },
     "execution_count": 35,
     "metadata": {},
     "output_type": "execute_result"
    }
   ],
   "source": [
    "range(10,21,3)"
   ]
  },
  {
   "cell_type": "code",
   "execution_count": 40,
   "id": "e2421835",
   "metadata": {},
   "outputs": [],
   "source": [
    "new_list = []\n",
    "for list_item in range(10, 21, 2):\n",
    "    new_list.append(list_item)"
   ]
  },
  {
   "cell_type": "code",
   "execution_count": 41,
   "id": "0d43d3ee",
   "metadata": {},
   "outputs": [
    {
     "data": {
      "text/plain": [
       "[10, 12, 14, 16, 18, 20]"
      ]
     },
     "execution_count": 41,
     "metadata": {},
     "output_type": "execute_result"
    }
   ],
   "source": [
    "new_list"
   ]
  },
  {
   "cell_type": "code",
   "execution_count": 42,
   "id": "60551803",
   "metadata": {},
   "outputs": [
    {
     "data": {
      "text/plain": [
       "range(10, 21, 3)"
      ]
     },
     "execution_count": 42,
     "metadata": {},
     "output_type": "execute_result"
    }
   ],
   "source": [
    "range(10, 21, 3)\n",
    "\n"
   ]
  },
  {
   "cell_type": "code",
   "execution_count": 43,
   "id": "f339f35d",
   "metadata": {},
   "outputs": [
    {
     "data": {
      "text/plain": [
       "[10, 13, 16, 19]"
      ]
     },
     "execution_count": 43,
     "metadata": {},
     "output_type": "execute_result"
    }
   ],
   "source": [
    "list(range(10, 21, 3))"
   ]
  },
  {
   "cell_type": "markdown",
   "id": "62ad78eb",
   "metadata": {},
   "source": [
    "LESSER OF TWO EVENS: Write a function that returns the lesser of two given numbers if both numbers are even, but returns the greater if one or both numbers are odd"
   ]
  },
  {
   "cell_type": "code",
   "execution_count": 45,
   "id": "8d7c9212",
   "metadata": {},
   "outputs": [],
   "source": [
    "def lesser_in_2_num(a,b):\n",
    "    if a%2==0 and b%2==0:\n",
    "        return min(a,b)\n",
    "    else:\n",
    "        return max(a,b)\n"
   ]
  },
  {
   "cell_type": "code",
   "execution_count": 46,
   "id": "a9bb7ca6",
   "metadata": {},
   "outputs": [
    {
     "data": {
      "text/plain": [
       "5"
      ]
     },
     "execution_count": 46,
     "metadata": {},
     "output_type": "execute_result"
    }
   ],
   "source": [
    "lesser_in_2_num(2,5)"
   ]
  },
  {
   "cell_type": "code",
   "execution_count": 47,
   "id": "21ac6c1d",
   "metadata": {},
   "outputs": [
    {
     "data": {
      "text/plain": [
       "9"
      ]
     },
     "execution_count": 47,
     "metadata": {},
     "output_type": "execute_result"
    }
   ],
   "source": [
    "lesser_in_2_num(9,5)"
   ]
  },
  {
   "cell_type": "code",
   "execution_count": 48,
   "id": "0ca14edd",
   "metadata": {},
   "outputs": [],
   "source": [
    "def lesser_of_two_evens(num1,num2):\n",
    "    if (num1 % 2 and num2 % 2) != 0:\n",
    "        if num2 > num1:\n",
    "            print(num2)\n",
    "        if num1 > num2:\n",
    "            print(num1)    \n",
    "    elif (num1 % 2 and num2 % 2) == 0:\n",
    "        if num1 < num2:\n",
    "            print(num1)\n",
    "        else:\n",
    "            print(num2)    \n",
    "    pass"
   ]
  },
  {
   "cell_type": "code",
   "execution_count": 49,
   "id": "98b2d8bd",
   "metadata": {},
   "outputs": [
    {
     "name": "stdout",
     "output_type": "stream",
     "text": [
      "2\n"
     ]
    }
   ],
   "source": [
    "lesser_of_two_evens(2,6)"
   ]
  },
  {
   "cell_type": "code",
   "execution_count": null,
   "id": "47490a76",
   "metadata": {},
   "outputs": [],
   "source": []
  }
 ],
 "metadata": {
  "kernelspec": {
   "display_name": "Python 3 (ipykernel)",
   "language": "python",
   "name": "python3"
  },
  "language_info": {
   "codemirror_mode": {
    "name": "ipython",
    "version": 3
   },
   "file_extension": ".py",
   "mimetype": "text/x-python",
   "name": "python",
   "nbconvert_exporter": "python",
   "pygments_lexer": "ipython3",
   "version": "3.9.12"
  }
 },
 "nbformat": 4,
 "nbformat_minor": 5
}
