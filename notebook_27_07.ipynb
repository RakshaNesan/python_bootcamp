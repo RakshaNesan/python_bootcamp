{
 "cells": [
  {
   "cell_type": "code",
   "execution_count": 1,
   "id": "4c2338a0",
   "metadata": {},
   "outputs": [],
   "source": [
    "square = lambda num:num**2"
   ]
  },
  {
   "cell_type": "code",
   "execution_count": 2,
   "id": "da6f9e7e",
   "metadata": {},
   "outputs": [
    {
     "data": {
      "text/plain": [
       "25"
      ]
     },
     "execution_count": 2,
     "metadata": {},
     "output_type": "execute_result"
    }
   ],
   "source": [
    "square(5)"
   ]
  },
  {
   "cell_type": "code",
   "execution_count": 3,
   "id": "d3abc1d7",
   "metadata": {},
   "outputs": [
    {
     "data": {
      "text/plain": [
       "[1, 4, 9, 16, 25]"
      ]
     },
     "execution_count": 3,
     "metadata": {},
     "output_type": "execute_result"
    }
   ],
   "source": [
    "mynums = [1,2,3,4,5]\n",
    "list(map(square,mynums))"
   ]
  },
  {
   "cell_type": "code",
   "execution_count": null,
   "id": "2f893276",
   "metadata": {},
   "outputs": [],
   "source": [
    "\n",
    "\n",
    "\n"
   ]
  },
  {
   "cell_type": "code",
   "execution_count": 16,
   "id": "75f0a674",
   "metadata": {},
   "outputs": [],
   "source": [
    "def myfunc_add(a,b,c,d):\n",
    "    print(a)\n",
    "    print(b)\n",
    "    print(c)\n",
    "    print(d)\n",
    "    tuple_add = (a,b,c,d)\n",
    "    add = sum(tuple_add)\n",
    "    return add"
   ]
  },
  {
   "cell_type": "code",
   "execution_count": 17,
   "id": "42db02bc",
   "metadata": {},
   "outputs": [
    {
     "name": "stdout",
     "output_type": "stream",
     "text": [
      "5\n",
      "2\n",
      "3\n",
      "6\n"
     ]
    },
    {
     "data": {
      "text/plain": [
       "16"
      ]
     },
     "execution_count": 17,
     "metadata": {},
     "output_type": "execute_result"
    }
   ],
   "source": [
    "myfunc_add(5,2,3,6)"
   ]
  },
  {
   "cell_type": "code",
   "execution_count": null,
   "id": "43a07373",
   "metadata": {},
   "outputs": [],
   "source": []
  },
  {
   "cell_type": "code",
   "execution_count": null,
   "id": "68224db1",
   "metadata": {},
   "outputs": [],
   "source": []
  },
  {
   "cell_type": "markdown",
   "id": "5af2f11e",
   "metadata": {},
   "source": [
    "*args: allows to take multiple arguments in a function as tuple"
   ]
  },
  {
   "cell_type": "code",
   "execution_count": 19,
   "id": "dd6f1a04",
   "metadata": {},
   "outputs": [],
   "source": [
    "def myfunc(*args):\n",
    "    print(args)\n",
    "    add = sum(args)\n",
    "    return add"
   ]
  },
  {
   "cell_type": "code",
   "execution_count": 20,
   "id": "21ab24f6",
   "metadata": {},
   "outputs": [
    {
     "name": "stdout",
     "output_type": "stream",
     "text": [
      "(40, 60, 70, 90, 10)\n"
     ]
    },
    {
     "data": {
      "text/plain": [
       "270"
      ]
     },
     "execution_count": 20,
     "metadata": {},
     "output_type": "execute_result"
    }
   ],
   "source": [
    "myfunc(40,60,70,90,10)"
   ]
  },
  {
   "cell_type": "code",
   "execution_count": null,
   "id": "0ffc96c1",
   "metadata": {},
   "outputs": [],
   "source": [
    "\n"
   ]
  },
  {
   "cell_type": "markdown",
   "id": "707e57aa",
   "metadata": {},
   "source": [
    "**kwargs: allows to take multiple arguments in a function as dictionary"
   ]
  },
  {
   "cell_type": "code",
   "execution_count": 9,
   "id": "b49ece2d",
   "metadata": {},
   "outputs": [],
   "source": [
    "def myfunc_dic(**kwargs):\n",
    "    print(kwargs)\n",
    "    if 'fruit'in kwargs:\n",
    "        print('My fruit of choice is {}'.format(kwargs['fruit']))\n",
    "    else:\n",
    "        print('I did not find any fruits here')"
   ]
  },
  {
   "cell_type": "code",
   "execution_count": 10,
   "id": "46ab3ae5",
   "metadata": {},
   "outputs": [
    {
     "name": "stdout",
     "output_type": "stream",
     "text": [
      "{'fruit': 'apple', 'veggie': 'carrot'}\n",
      "My fruit of choice is apple\n"
     ]
    }
   ],
   "source": [
    "myfunc_dic(fruit='apple',veggie='carrot')"
   ]
  },
  {
   "cell_type": "code",
   "execution_count": null,
   "id": "679f78f5",
   "metadata": {},
   "outputs": [],
   "source": []
  },
  {
   "cell_type": "code",
   "execution_count": null,
   "id": "38c95787",
   "metadata": {},
   "outputs": [],
   "source": [
    "mydetail(name='Kavi',age='29',town='Batti')"
   ]
  },
  {
   "cell_type": "markdown",
   "id": "7146361a",
   "metadata": {},
   "source": [
    "My name is {} , age is {} and i'm from {}"
   ]
  },
  {
   "cell_type": "code",
   "execution_count": 21,
   "id": "10f235a6",
   "metadata": {},
   "outputs": [],
   "source": [
    "def myfunc_dic(**kwargs):\n",
    "    if 'name' in kwargs:\n",
    "        print('My name is {}'.format(kwargs['name']))\n",
    "    elif 'age' in kwargs:\n",
    "        print('My age is {}'.format(kwargs['age']))\n",
    "    elif 'town' in kwargs:\n",
    "        print('My town is {}'.format(kwargs['town']))\n",
    "    else:\n",
    "        print('I did not find')\n"
   ]
  },
  {
   "cell_type": "code",
   "execution_count": 22,
   "id": "a40e615c",
   "metadata": {},
   "outputs": [
    {
     "name": "stdout",
     "output_type": "stream",
     "text": [
      "My name is Kavi\n"
     ]
    }
   ],
   "source": [
    "myfunc_dic(name='Kavi',age='29',town='Batti')"
   ]
  },
  {
   "cell_type": "code",
   "execution_count": 29,
   "id": "3f647345",
   "metadata": {},
   "outputs": [],
   "source": [
    "def mydetail(**kwargs):\n",
    "    print(kwargs)\n",
    "    print ('My name is {} , age is {} and i\\'m from {}'.format(kwargs['name'],kwargs['age'],kwargs['town']))"
   ]
  },
  {
   "cell_type": "code",
   "execution_count": 30,
   "id": "5ecbcbdc",
   "metadata": {},
   "outputs": [
    {
     "name": "stdout",
     "output_type": "stream",
     "text": [
      "{'name': 'Kavi', 'age': '29', 'town': 'Batti'}\n",
      "My name is Kavi , age is 29 and i'm from Batti\n"
     ]
    }
   ],
   "source": [
    "mydetail(name='Kavi',age='29',town='Batti')"
   ]
  },
  {
   "cell_type": "code",
   "execution_count": null,
   "id": "f4e73511",
   "metadata": {},
   "outputs": [],
   "source": []
  },
  {
   "cell_type": "markdown",
   "id": "a14fdfc0",
   "metadata": {},
   "source": [
    "Using kwargs and args:"
   ]
  },
  {
   "cell_type": "code",
   "execution_count": 34,
   "id": "d53c8f40",
   "metadata": {},
   "outputs": [],
   "source": [
    "def myfunc_(*args, **kwargs):\n",
    "    print(kwargs)\n",
    "    print(args)\n",
    "    print('I would like {} {}'.format(args[0],kwargs['fruit']))"
   ]
  },
  {
   "cell_type": "code",
   "execution_count": 39,
   "id": "e836d742",
   "metadata": {},
   "outputs": [
    {
     "name": "stdout",
     "output_type": "stream",
     "text": [
      "{'fruit': 'orange', 'animal': 'cat', 'food': 'thosai'}\n",
      "(10, 20, 30)\n",
      "I would like 10 orange\n"
     ]
    }
   ],
   "source": [
    "myfunc_(10,20,30,fruit='orange', animal='cat', food='thosai')"
   ]
  },
  {
   "cell_type": "code",
   "execution_count": null,
   "id": "8d9e7794",
   "metadata": {},
   "outputs": [],
   "source": [
    "\n"
   ]
  },
  {
   "cell_type": "markdown",
   "id": "bfcc22f6",
   "metadata": {},
   "source": [
    "{rajah} got {marks} at {subject}. and he is {age} studing at {school}"
   ]
  },
  {
   "cell_type": "code",
   "execution_count": 42,
   "id": "c4a2ca25",
   "metadata": {},
   "outputs": [],
   "source": [
    "def marks_detail(*args,**kwargs):\n",
    "    print(kwargs)\n",
    "    print(args)\n",
    "    print('{} got {} at {}. and he is {} studying at {}'.format(kwargs['names'][0],args[0],kwargs['subject'],kwargs['age'],kwargs['school']))\n"
   ]
  },
  {
   "cell_type": "code",
   "execution_count": 43,
   "id": "8606b026",
   "metadata": {
    "scrolled": true
   },
   "outputs": [
    {
     "name": "stdout",
     "output_type": "stream",
     "text": [
      "{'names': ['rajah', 'rani', 'kamal'], 'age': 14, 'school': 'rarar', 'subject': 'Maths'}\n",
      "(85, 35, 92)\n",
      "rajah got 85 at Maths. and he is 14 studying at rarar\n"
     ]
    }
   ],
   "source": [
    "marks_detail(85,35,92, names=['rajah', 'rani', 'kamal'], age=14, school='rarar', subject='Maths')"
   ]
  },
  {
   "cell_type": "code",
   "execution_count": null,
   "id": "c6c606b2",
   "metadata": {},
   "outputs": [],
   "source": []
  },
  {
   "cell_type": "code",
   "execution_count": null,
   "id": "ce26c68a",
   "metadata": {},
   "outputs": [],
   "source": []
  },
  {
   "cell_type": "code",
   "execution_count": null,
   "id": "53664acc",
   "metadata": {},
   "outputs": [],
   "source": []
  },
  {
   "cell_type": "markdown",
   "id": "f58df842",
   "metadata": {},
   "source": [
    "Map function"
   ]
  },
  {
   "cell_type": "code",
   "execution_count": 44,
   "id": "ac8099ee",
   "metadata": {},
   "outputs": [],
   "source": [
    "def square(n):\n",
    "    return n**2"
   ]
  },
  {
   "cell_type": "code",
   "execution_count": 45,
   "id": "cb563300",
   "metadata": {},
   "outputs": [
    {
     "data": {
      "text/plain": [
       "25"
      ]
     },
     "execution_count": 45,
     "metadata": {},
     "output_type": "execute_result"
    }
   ],
   "source": [
    "square(5)"
   ]
  },
  {
   "cell_type": "code",
   "execution_count": 49,
   "id": "ae27b73e",
   "metadata": {},
   "outputs": [],
   "source": [
    "num_list = [1,3,4,6]\n",
    "new_list = []\n",
    "for num in num_list:\n",
    "    new_list.append(square(num))\n",
    "    "
   ]
  },
  {
   "cell_type": "code",
   "execution_count": 50,
   "id": "18f752f5",
   "metadata": {},
   "outputs": [
    {
     "data": {
      "text/plain": [
       "[1, 9, 16, 36]"
      ]
     },
     "execution_count": 50,
     "metadata": {},
     "output_type": "execute_result"
    }
   ],
   "source": [
    "new_list\n"
   ]
  },
  {
   "cell_type": "code",
   "execution_count": 54,
   "id": "5872d8ee",
   "metadata": {},
   "outputs": [
    {
     "data": {
      "text/plain": [
       "[1, 9, 16, 36]"
      ]
     },
     "execution_count": 54,
     "metadata": {},
     "output_type": "execute_result"
    }
   ],
   "source": [
    "list(map(square, num_list))"
   ]
  },
  {
   "cell_type": "code",
   "execution_count": 55,
   "id": "4a2350b0",
   "metadata": {},
   "outputs": [],
   "source": [
    "def add(a,b):\n",
    "    return a+b"
   ]
  },
  {
   "cell_type": "code",
   "execution_count": null,
   "id": "24bdbf34",
   "metadata": {},
   "outputs": [],
   "source": []
  },
  {
   "cell_type": "code",
   "execution_count": null,
   "id": "0db24d12",
   "metadata": {},
   "outputs": [],
   "source": []
  },
  {
   "cell_type": "code",
   "execution_count": 63,
   "id": "136236f6",
   "metadata": {},
   "outputs": [],
   "source": [
    "def initial_cappital(name):\n",
    "    return name.capitalize()"
   ]
  },
  {
   "cell_type": "code",
   "execution_count": 65,
   "id": "7c82aeda",
   "metadata": {},
   "outputs": [],
   "source": [
    "name_list = ['rajah', 'rani', 'kamal']"
   ]
  },
  {
   "cell_type": "code",
   "execution_count": 64,
   "id": "ab0bc9f5",
   "metadata": {},
   "outputs": [
    {
     "data": {
      "text/plain": [
       "['Rajah', 'Rani', 'Kamal']"
      ]
     },
     "execution_count": 64,
     "metadata": {},
     "output_type": "execute_result"
    }
   ],
   "source": [
    "list(map(initial_cappital, name_list))"
   ]
  },
  {
   "cell_type": "code",
   "execution_count": null,
   "id": "cf06d638",
   "metadata": {},
   "outputs": [],
   "source": []
  },
  {
   "cell_type": "code",
   "execution_count": 66,
   "id": "00a06758",
   "metadata": {},
   "outputs": [],
   "source": [
    "def all_capital(name):\n",
    "    return name.upper()"
   ]
  },
  {
   "cell_type": "code",
   "execution_count": 68,
   "id": "babe856e",
   "metadata": {},
   "outputs": [
    {
     "data": {
      "text/plain": [
       "['RAJAH', 'RANI', 'KAMAL']"
      ]
     },
     "execution_count": 68,
     "metadata": {},
     "output_type": "execute_result"
    }
   ],
   "source": [
    "list(map(all_capital, name_list))\n"
   ]
  },
  {
   "cell_type": "code",
   "execution_count": null,
   "id": "acc35cf1",
   "metadata": {},
   "outputs": [],
   "source": []
  },
  {
   "cell_type": "markdown",
   "id": "5c707960",
   "metadata": {},
   "source": [
    "filter function"
   ]
  },
  {
   "cell_type": "code",
   "execution_count": 69,
   "id": "7f18f8db",
   "metadata": {},
   "outputs": [],
   "source": [
    "def check_even(num):\n",
    "    return num%2==0"
   ]
  },
  {
   "cell_type": "code",
   "execution_count": 70,
   "id": "ef199f34",
   "metadata": {},
   "outputs": [],
   "source": [
    "my_nums = [1,3,5,8,6,9]"
   ]
  },
  {
   "cell_type": "code",
   "execution_count": 71,
   "id": "8358d23c",
   "metadata": {},
   "outputs": [
    {
     "data": {
      "text/plain": [
       "<filter at 0x219bc05d2b0>"
      ]
     },
     "execution_count": 71,
     "metadata": {},
     "output_type": "execute_result"
    }
   ],
   "source": [
    "filter(check_even, my_nums)"
   ]
  },
  {
   "cell_type": "code",
   "execution_count": 72,
   "id": "059aa826",
   "metadata": {},
   "outputs": [
    {
     "data": {
      "text/plain": [
       "[8, 6]"
      ]
     },
     "execution_count": 72,
     "metadata": {},
     "output_type": "execute_result"
    }
   ],
   "source": [
    "list(filter(check_even, my_nums))"
   ]
  },
  {
   "cell_type": "code",
   "execution_count": 73,
   "id": "7c876de7",
   "metadata": {},
   "outputs": [],
   "source": [
    "def check_odd(num):\n",
    "    check_bool = num%2==1\n",
    "    return check_bool"
   ]
  },
  {
   "cell_type": "code",
   "execution_count": 74,
   "id": "2302a68a",
   "metadata": {},
   "outputs": [
    {
     "data": {
      "text/plain": [
       "[1, 3, 5, 9]"
      ]
     },
     "execution_count": 74,
     "metadata": {},
     "output_type": "execute_result"
    }
   ],
   "source": [
    "list(filter(check_odd, my_nums))"
   ]
  },
  {
   "cell_type": "code",
   "execution_count": null,
   "id": "78f24bfc",
   "metadata": {},
   "outputs": [],
   "source": []
  },
  {
   "cell_type": "code",
   "execution_count": 77,
   "id": "6510a24c",
   "metadata": {},
   "outputs": [],
   "source": [
    "name_list = ['rajah', 'rani', 'kamal', 'bavi', 'ravi']"
   ]
  },
  {
   "cell_type": "code",
   "execution_count": 80,
   "id": "62c94c2e",
   "metadata": {},
   "outputs": [
    {
     "data": {
      "text/plain": [
       "['rajah', 'rani', 'ravi']"
      ]
     },
     "execution_count": 80,
     "metadata": {},
     "output_type": "execute_result"
    }
   ],
   "source": [
    "def name_check(name):\n",
    "        check_bool= name[0]=='r'\n",
    "        return check_bool\n",
    "\n",
    "list(filter(name_check, name_list))\n"
   ]
  },
  {
   "cell_type": "code",
   "execution_count": 83,
   "id": "f7af133a",
   "metadata": {},
   "outputs": [],
   "source": [
    "def check_first_letter(letter):\n",
    "    if  letter[0] == 'r':\n",
    "        return True"
   ]
  },
  {
   "cell_type": "code",
   "execution_count": 84,
   "id": "c3c4bd0b",
   "metadata": {},
   "outputs": [
    {
     "data": {
      "text/plain": [
       "['rajah', 'rani', 'ravi']"
      ]
     },
     "execution_count": 84,
     "metadata": {},
     "output_type": "execute_result"
    }
   ],
   "source": [
    "list(filter(check_first_letter,name_list))\n"
   ]
  },
  {
   "cell_type": "code",
   "execution_count": null,
   "id": "87d5ba91",
   "metadata": {},
   "outputs": [],
   "source": []
  },
  {
   "cell_type": "code",
   "execution_count": null,
   "id": "ebbf2181",
   "metadata": {},
   "outputs": [],
   "source": []
  },
  {
   "cell_type": "code",
   "execution_count": 85,
   "id": "6985571f",
   "metadata": {},
   "outputs": [],
   "source": [
    "name_list = ['rajah', 'rani', 'kamal', 'bavi', 'ravi']"
   ]
  },
  {
   "cell_type": "code",
   "execution_count": 86,
   "id": "93ee77c9",
   "metadata": {},
   "outputs": [],
   "source": [
    "name_emt = []\n",
    "for name in name_list:\n",
    "    if name[0]=='r':\n",
    "        name_emt.append(name)"
   ]
  },
  {
   "cell_type": "code",
   "execution_count": 87,
   "id": "e245166a",
   "metadata": {},
   "outputs": [
    {
     "data": {
      "text/plain": [
       "['rajah', 'rani', 'ravi']"
      ]
     },
     "execution_count": 87,
     "metadata": {},
     "output_type": "execute_result"
    }
   ],
   "source": [
    "name_emt"
   ]
  },
  {
   "cell_type": "code",
   "execution_count": null,
   "id": "816b9616",
   "metadata": {},
   "outputs": [],
   "source": []
  }
 ],
 "metadata": {
  "kernelspec": {
   "display_name": "Python 3 (ipykernel)",
   "language": "python",
   "name": "python3"
  },
  "language_info": {
   "codemirror_mode": {
    "name": "ipython",
    "version": 3
   },
   "file_extension": ".py",
   "mimetype": "text/x-python",
   "name": "python",
   "nbconvert_exporter": "python",
   "pygments_lexer": "ipython3",
   "version": "3.9.12"
  }
 },
 "nbformat": 4,
 "nbformat_minor": 5
}
