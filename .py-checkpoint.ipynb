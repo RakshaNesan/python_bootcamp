{
 "cells": [
  {
   "cell_type": "code",
   "execution_count": 1,
   "id": "e278ff7a",
   "metadata": {},
   "outputs": [],
   "source": [
    "new_string = 'I \\'m a human'"
   ]
  },
  {
   "cell_type": "code",
   "execution_count": 2,
   "id": "bc19c123",
   "metadata": {},
   "outputs": [
    {
     "ename": "SyntaxError",
     "evalue": "invalid syntax (15825199.py, line 1)",
     "output_type": "error",
     "traceback": [
      "\u001b[1;36m  Input \u001b[1;32mIn [2]\u001b[1;36m\u001b[0m\n\u001b[1;33m    new _string =\u001b[0m\n\u001b[1;37m        ^\u001b[0m\n\u001b[1;31mSyntaxError\u001b[0m\u001b[1;31m:\u001b[0m invalid syntax\n"
     ]
    }
   ],
   "source": [
    "new _string = "
   ]
  },
  {
   "cell_type": "code",
   "execution_count": 3,
   "id": "18a8f348",
   "metadata": {},
   "outputs": [
    {
     "ename": "SyntaxError",
     "evalue": "invalid syntax (1128532758.py, line 1)",
     "output_type": "error",
     "traceback": [
      "\u001b[1;36m  Input \u001b[1;32mIn [3]\u001b[1;36m\u001b[0m\n\u001b[1;33m    new_string =\u001b[0m\n\u001b[1;37m                ^\u001b[0m\n\u001b[1;31mSyntaxError\u001b[0m\u001b[1;31m:\u001b[0m invalid syntax\n"
     ]
    }
   ],
   "source": [
    "new_string ="
   ]
  },
  {
   "cell_type": "code",
   "execution_count": 4,
   "id": "6877bfb9",
   "metadata": {},
   "outputs": [],
   "source": [
    "new_string = 'I\\'m a human'"
   ]
  },
  {
   "cell_type": "code",
   "execution_count": 5,
   "id": "1398955a",
   "metadata": {},
   "outputs": [
    {
     "ename": "NameError",
     "evalue": "name 'new' is not defined",
     "output_type": "error",
     "traceback": [
      "\u001b[1;31m---------------------------------------------------------------------------\u001b[0m",
      "\u001b[1;31mNameError\u001b[0m                                 Traceback (most recent call last)",
      "Input \u001b[1;32mIn [5]\u001b[0m, in \u001b[0;36m<cell line: 1>\u001b[1;34m()\u001b[0m\n\u001b[1;32m----> 1\u001b[0m \u001b[43mnew\u001b[49m\n",
      "\u001b[1;31mNameError\u001b[0m: name 'new' is not defined"
     ]
    }
   ],
   "source": [
    "new"
   ]
  },
  {
   "cell_type": "code",
   "execution_count": 6,
   "id": "860bbc3b",
   "metadata": {},
   "outputs": [
    {
     "ename": "SyntaxError",
     "evalue": "invalid syntax (1128532758.py, line 1)",
     "output_type": "error",
     "traceback": [
      "\u001b[1;36m  Input \u001b[1;32mIn [6]\u001b[1;36m\u001b[0m\n\u001b[1;33m    new_string =\u001b[0m\n\u001b[1;37m                ^\u001b[0m\n\u001b[1;31mSyntaxError\u001b[0m\u001b[1;31m:\u001b[0m invalid syntax\n"
     ]
    }
   ],
   "source": [
    "new_string ="
   ]
  },
  {
   "cell_type": "code",
   "execution_count": 7,
   "id": "c02b778d",
   "metadata": {},
   "outputs": [
    {
     "data": {
      "text/plain": [
       "\"I'm a human\""
      ]
     },
     "execution_count": 7,
     "metadata": {},
     "output_type": "execute_result"
    }
   ],
   "source": [
    "new_string"
   ]
  },
  {
   "cell_type": "code",
   "execution_count": 8,
   "id": "b7a994ba",
   "metadata": {},
   "outputs": [],
   "source": [
    "new_string ='i \"ravi\" from batti'"
   ]
  },
  {
   "cell_type": "code",
   "execution_count": 9,
   "id": "eb3bfe3d",
   "metadata": {},
   "outputs": [
    {
     "data": {
      "text/plain": [
       "'i \"ravi\" from batti'"
      ]
     },
     "execution_count": 9,
     "metadata": {},
     "output_type": "execute_result"
    }
   ],
   "source": [
    "new_string"
   ]
  },
  {
   "cell_type": "code",
   "execution_count": 10,
   "id": "d296f501",
   "metadata": {},
   "outputs": [],
   "source": [
    "new_string ='I\\'m \"ara\" from batti'"
   ]
  },
  {
   "cell_type": "code",
   "execution_count": 11,
   "id": "1a3d6980",
   "metadata": {},
   "outputs": [
    {
     "data": {
      "text/plain": [
       "'I\\'m \"ara\" from batti'"
      ]
     },
     "execution_count": 11,
     "metadata": {},
     "output_type": "execute_result"
    }
   ],
   "source": [
    "new_string"
   ]
  },
  {
   "cell_type": "code",
   "execution_count": 12,
   "id": "9e36e04b",
   "metadata": {},
   "outputs": [
    {
     "name": "stdout",
     "output_type": "stream",
     "text": [
      "I'm \"ara\" from batti\n"
     ]
    }
   ],
   "source": [
    "print(new_string)"
   ]
  },
  {
   "cell_type": "code",
   "execution_count": 13,
   "id": "451514dc",
   "metadata": {},
   "outputs": [],
   "source": [
    "new_string =\"I\\'m \\\"ara\\\"from batti\""
   ]
  },
  {
   "cell_type": "code",
   "execution_count": 14,
   "id": "4c560d24",
   "metadata": {},
   "outputs": [
    {
     "name": "stdout",
     "output_type": "stream",
     "text": [
      "I'm \"ara\"from batti\n"
     ]
    }
   ],
   "source": [
    "print(new_string)"
   ]
  },
  {
   "cell_type": "code",
   "execution_count": 15,
   "id": "2161ad61",
   "metadata": {},
   "outputs": [],
   "source": [
    "new_string =\"hi \\\\ brother\""
   ]
  },
  {
   "cell_type": "code",
   "execution_count": 16,
   "id": "653e67e8",
   "metadata": {},
   "outputs": [
    {
     "name": "stdout",
     "output_type": "stream",
     "text": [
      "hi \\ brother\n"
     ]
    }
   ],
   "source": [
    "print(new_string)"
   ]
  },
  {
   "cell_type": "code",
   "execution_count": 17,
   "id": "4b4e9d0e",
   "metadata": {},
   "outputs": [],
   "source": [
    "new_string =\"hi \\t brother\""
   ]
  },
  {
   "cell_type": "code",
   "execution_count": 18,
   "id": "2333c708",
   "metadata": {},
   "outputs": [
    {
     "name": "stdout",
     "output_type": "stream",
     "text": [
      "hi \t brother\n"
     ]
    }
   ],
   "source": [
    "print(new_string)"
   ]
  },
  {
   "cell_type": "code",
   "execution_count": 21,
   "id": "c00902ec",
   "metadata": {},
   "outputs": [],
   "source": [
    "new_string = \"hi\\bbrother\""
   ]
  },
  {
   "cell_type": "code",
   "execution_count": 22,
   "id": "c5682862",
   "metadata": {},
   "outputs": [
    {
     "name": "stdout",
     "output_type": "stream",
     "text": [
      "hi\bbrother\n"
     ]
    }
   ],
   "source": [
    "print(new_string)"
   ]
  },
  {
   "cell_type": "code",
   "execution_count": 23,
   "id": "5caaa6c6",
   "metadata": {},
   "outputs": [],
   "source": [
    "new_string = \"I'm ravi\""
   ]
  },
  {
   "cell_type": "code",
   "execution_count": 24,
   "id": "8b734a3a",
   "metadata": {},
   "outputs": [
    {
     "data": {
      "text/plain": [
       "'I'"
      ]
     },
     "execution_count": 24,
     "metadata": {},
     "output_type": "execute_result"
    }
   ],
   "source": [
    "new_string[0]"
   ]
  },
  {
   "cell_type": "code",
   "execution_count": 25,
   "id": "44690992",
   "metadata": {},
   "outputs": [
    {
     "data": {
      "text/plain": [
       "\"'\""
      ]
     },
     "execution_count": 25,
     "metadata": {},
     "output_type": "execute_result"
    }
   ],
   "source": [
    "new_string[1]"
   ]
  },
  {
   "cell_type": "code",
   "execution_count": 26,
   "id": "255d483b",
   "metadata": {},
   "outputs": [
    {
     "ename": "NameError",
     "evalue": "name 'new_sring' is not defined",
     "output_type": "error",
     "traceback": [
      "\u001b[1;31m---------------------------------------------------------------------------\u001b[0m",
      "\u001b[1;31mNameError\u001b[0m                                 Traceback (most recent call last)",
      "Input \u001b[1;32mIn [26]\u001b[0m, in \u001b[0;36m<cell line: 1>\u001b[1;34m()\u001b[0m\n\u001b[1;32m----> 1\u001b[0m \u001b[43mnew_sring\u001b[49m[\u001b[38;5;241m-\u001b[39m\u001b[38;5;241m3\u001b[39m]\n",
      "\u001b[1;31mNameError\u001b[0m: name 'new_sring' is not defined"
     ]
    }
   ],
   "source": [
    "new_sring[-3]"
   ]
  },
  {
   "cell_type": "code",
   "execution_count": 27,
   "id": "36636a4d",
   "metadata": {},
   "outputs": [
    {
     "data": {
      "text/plain": [
       "'a'"
      ]
     },
     "execution_count": 27,
     "metadata": {},
     "output_type": "execute_result"
    }
   ],
   "source": [
    "new_string[-3]"
   ]
  },
  {
   "cell_type": "code",
   "execution_count": 28,
   "id": "015e8598",
   "metadata": {},
   "outputs": [
    {
     "data": {
      "text/plain": [
       "8"
      ]
     },
     "execution_count": 28,
     "metadata": {},
     "output_type": "execute_result"
    }
   ],
   "source": [
    "len(new_string)"
   ]
  },
  {
   "cell_type": "code",
   "execution_count": 29,
   "id": "ee565402",
   "metadata": {},
   "outputs": [
    {
     "ename": "NameError",
     "evalue": "name 'new' is not defined",
     "output_type": "error",
     "traceback": [
      "\u001b[1;31m---------------------------------------------------------------------------\u001b[0m",
      "\u001b[1;31mNameError\u001b[0m                                 Traceback (most recent call last)",
      "Input \u001b[1;32mIn [29]\u001b[0m, in \u001b[0;36m<cell line: 1>\u001b[1;34m()\u001b[0m\n\u001b[1;32m----> 1\u001b[0m new_string[\u001b[38;5;28mlen\u001b[39m(\u001b[43mnew\u001b[49m\u001b[38;5;241m-\u001b[39mstring)\u001b[38;5;241m-\u001b[39m\u001b[38;5;241m1\u001b[39m]\n",
      "\u001b[1;31mNameError\u001b[0m: name 'new' is not defined"
     ]
    }
   ],
   "source": [
    "new_string[len(new-string)-1]"
   ]
  },
  {
   "cell_type": "code",
   "execution_count": 30,
   "id": "c7089fad",
   "metadata": {},
   "outputs": [
    {
     "data": {
      "text/plain": [
       "'i'"
      ]
     },
     "execution_count": 30,
     "metadata": {},
     "output_type": "execute_result"
    }
   ],
   "source": [
    "new_string[len(new_string)-1]"
   ]
  },
  {
   "cell_type": "code",
   "execution_count": 31,
   "id": "d6ea1c1f",
   "metadata": {},
   "outputs": [],
   "source": [
    "new_string = \"I'm ravi\""
   ]
  },
  {
   "cell_type": "code",
   "execution_count": 32,
   "id": "beae3e08",
   "metadata": {},
   "outputs": [
    {
     "data": {
      "text/plain": [
       "'rav'"
      ]
     },
     "execution_count": 32,
     "metadata": {},
     "output_type": "execute_result"
    }
   ],
   "source": [
    "new_string[4:7]"
   ]
  },
  {
   "cell_type": "code",
   "execution_count": 33,
   "id": "d0c0d5e9",
   "metadata": {},
   "outputs": [
    {
     "data": {
      "text/plain": [
       "'ravi'"
      ]
     },
     "execution_count": 33,
     "metadata": {},
     "output_type": "execute_result"
    }
   ],
   "source": [
    "new_string[4:]"
   ]
  },
  {
   "cell_type": "code",
   "execution_count": 34,
   "id": "f251797e",
   "metadata": {},
   "outputs": [
    {
     "data": {
      "text/plain": [
       "\"I'm ravi\""
      ]
     },
     "execution_count": 34,
     "metadata": {},
     "output_type": "execute_result"
    }
   ],
   "source": [
    "new_string"
   ]
  },
  {
   "cell_type": "code",
   "execution_count": 35,
   "id": "fb84995e",
   "metadata": {},
   "outputs": [
    {
     "data": {
      "text/plain": [
       "'m '"
      ]
     },
     "execution_count": 35,
     "metadata": {},
     "output_type": "execute_result"
    }
   ],
   "source": [
    "new_string[2:4]"
   ]
  },
  {
   "cell_type": "code",
   "execution_count": 36,
   "id": "f1f88473",
   "metadata": {},
   "outputs": [
    {
     "data": {
      "text/plain": [
       "'m r'"
      ]
     },
     "execution_count": 36,
     "metadata": {},
     "output_type": "execute_result"
    }
   ],
   "source": [
    "new_string[2:5]"
   ]
  },
  {
   "cell_type": "code",
   "execution_count": 37,
   "id": "e352fd80",
   "metadata": {},
   "outputs": [
    {
     "data": {
      "text/plain": [
       "\"' a\""
      ]
     },
     "execution_count": 37,
     "metadata": {},
     "output_type": "execute_result"
    }
   ],
   "source": [
    "new_string[1:6:2]"
   ]
  },
  {
   "cell_type": "code",
   "execution_count": 38,
   "id": "8ce0ccc2",
   "metadata": {},
   "outputs": [
    {
     "data": {
      "text/plain": [
       "\"'m ra\""
      ]
     },
     "execution_count": 38,
     "metadata": {},
     "output_type": "execute_result"
    }
   ],
   "source": [
    "new_string[1:6]"
   ]
  },
  {
   "cell_type": "code",
   "execution_count": 39,
   "id": "4cce22d6",
   "metadata": {},
   "outputs": [
    {
     "data": {
      "text/plain": [
       "\"'m rav\""
      ]
     },
     "execution_count": 39,
     "metadata": {},
     "output_type": "execute_result"
    }
   ],
   "source": [
    "new_string[1:7]"
   ]
  },
  {
   "cell_type": "code",
   "execution_count": 40,
   "id": "a7284550",
   "metadata": {},
   "outputs": [
    {
     "data": {
      "text/plain": [
       "\"'r\""
      ]
     },
     "execution_count": 40,
     "metadata": {},
     "output_type": "execute_result"
    }
   ],
   "source": [
    "new_string[1:7:3]"
   ]
  },
  {
   "cell_type": "code",
   "execution_count": 41,
   "id": "81a1f03a",
   "metadata": {},
   "outputs": [
    {
     "data": {
      "text/plain": [
       "'Imr'"
      ]
     },
     "execution_count": 41,
     "metadata": {},
     "output_type": "execute_result"
    }
   ],
   "source": [
    "new_string[0:6:2]"
   ]
  },
  {
   "cell_type": "code",
   "execution_count": 42,
   "id": "4074acaf",
   "metadata": {},
   "outputs": [
    {
     "data": {
      "text/plain": [
       "'Im'"
      ]
     },
     "execution_count": 42,
     "metadata": {},
     "output_type": "execute_result"
    }
   ],
   "source": [
    "new_string[0:4:2]"
   ]
  },
  {
   "cell_type": "code",
   "execution_count": 43,
   "id": "d7dea49f",
   "metadata": {},
   "outputs": [
    {
     "data": {
      "text/plain": [
       "\"I'm r\""
      ]
     },
     "execution_count": 43,
     "metadata": {},
     "output_type": "execute_result"
    }
   ],
   "source": [
    "new_string[0:5:1]"
   ]
  },
  {
   "cell_type": "code",
   "execution_count": 44,
   "id": "891927a3",
   "metadata": {},
   "outputs": [
    {
     "data": {
      "text/plain": [
       "\"I'm rav\""
      ]
     },
     "execution_count": 44,
     "metadata": {},
     "output_type": "execute_result"
    }
   ],
   "source": [
    "new_string[:7]"
   ]
  },
  {
   "cell_type": "code",
   "execution_count": 45,
   "id": "6b5ac86e",
   "metadata": {},
   "outputs": [
    {
     "data": {
      "text/plain": [
       "\"I'm ravi\""
      ]
     },
     "execution_count": 45,
     "metadata": {},
     "output_type": "execute_result"
    }
   ],
   "source": [
    "new_string[:]"
   ]
  },
  {
   "cell_type": "code",
   "execution_count": 46,
   "id": "337f7630",
   "metadata": {},
   "outputs": [
    {
     "data": {
      "text/plain": [
       "'Ir'"
      ]
     },
     "execution_count": 46,
     "metadata": {},
     "output_type": "execute_result"
    }
   ],
   "source": [
    "new_string[0:7:4]"
   ]
  },
  {
   "cell_type": "code",
   "execution_count": 47,
   "id": "e8478cfe",
   "metadata": {},
   "outputs": [
    {
     "data": {
      "text/plain": [
       "'Iv'"
      ]
     },
     "execution_count": 47,
     "metadata": {},
     "output_type": "execute_result"
    }
   ],
   "source": [
    "new_string[0:7:6]"
   ]
  },
  {
   "cell_type": "code",
   "execution_count": 48,
   "id": "74557711",
   "metadata": {},
   "outputs": [
    {
     "data": {
      "text/plain": [
       "'Iv'"
      ]
     },
     "execution_count": 48,
     "metadata": {},
     "output_type": "execute_result"
    }
   ],
   "source": [
    "new_string[::6]"
   ]
  },
  {
   "cell_type": "code",
   "execution_count": 49,
   "id": "c1e38609",
   "metadata": {},
   "outputs": [
    {
     "data": {
      "text/plain": [
       "\"ivar m'I\""
      ]
     },
     "execution_count": 49,
     "metadata": {},
     "output_type": "execute_result"
    }
   ],
   "source": [
    "new_string[::-1]"
   ]
  },
  {
   "cell_type": "code",
   "execution_count": 50,
   "id": "f4179680",
   "metadata": {},
   "outputs": [
    {
     "data": {
      "text/plain": [
       "\"ia '\""
      ]
     },
     "execution_count": 50,
     "metadata": {},
     "output_type": "execute_result"
    }
   ],
   "source": [
    "new_string[::-2]"
   ]
  },
  {
   "cell_type": "code",
   "execution_count": 51,
   "id": "fa513119",
   "metadata": {},
   "outputs": [],
   "source": [
    "next_string = new_string[::2]"
   ]
  },
  {
   "cell_type": "code",
   "execution_count": 52,
   "id": "aa5c2e64",
   "metadata": {},
   "outputs": [
    {
     "data": {
      "text/plain": [
       "\"ia '\""
      ]
     },
     "execution_count": 52,
     "metadata": {},
     "output_type": "execute_result"
    }
   ],
   "source": [
    "next_string"
   ]
  },
  {
   "cell_type": "code",
   "execution_count": 53,
   "id": "77e0ed19",
   "metadata": {},
   "outputs": [],
   "source": [
    "new1_string = new_string[::-1]"
   ]
  },
  {
   "cell_type": "code",
   "execution_count": 54,
   "id": "add7e30e",
   "metadata": {},
   "outputs": [
    {
     "data": {
      "text/plain": [
       "\"ivar m'I\""
      ]
     },
     "execution_count": 54,
     "metadata": {},
     "output_type": "execute_result"
    }
   ],
   "source": [
    "new1_string"
   ]
  },
  {
   "cell_type": "code",
   "execution_count": 55,
   "id": "5c3aa7d2",
   "metadata": {},
   "outputs": [
    {
     "ename": "TypeError",
     "evalue": "'str' object does not support item assignment",
     "output_type": "error",
     "traceback": [
      "\u001b[1;31m---------------------------------------------------------------------------\u001b[0m",
      "\u001b[1;31mTypeError\u001b[0m                                 Traceback (most recent call last)",
      "Input \u001b[1;32mIn [55]\u001b[0m, in \u001b[0;36m<cell line: 1>\u001b[1;34m()\u001b[0m\n\u001b[1;32m----> 1\u001b[0m new1_string[\u001b[38;5;241m2\u001b[39m]\u001b[38;5;241m=\u001b[39m\u001b[38;5;124m\"\u001b[39m\u001b[38;5;124mk\u001b[39m\u001b[38;5;124m\"\u001b[39m\n",
      "\u001b[1;31mTypeError\u001b[0m: 'str' object does not support item assignment"
     ]
    }
   ],
   "source": [
    "new1_string[2]=\"k\""
   ]
  },
  {
   "cell_type": "code",
   "execution_count": 56,
   "id": "045a4759",
   "metadata": {},
   "outputs": [
    {
     "name": "stdout",
     "output_type": "stream",
     "text": [
      "I'm ravifrom batti\n"
     ]
    }
   ],
   "source": [
    "name_string = \"I'm ravi\"\n",
    "place_string = \"from batti\"\n",
    "print(name_string + place_string)"
   ]
  },
  {
   "cell_type": "code",
   "execution_count": 57,
   "id": "ef874dbf",
   "metadata": {},
   "outputs": [
    {
     "name": "stdout",
     "output_type": "stream",
     "text": [
      "I'm ravi from batti\n"
     ]
    }
   ],
   "source": [
    "name_string = \"I'm ravi\"\n",
    "place_string = \" from batti\"\n",
    "print(name_string + place_string)"
   ]
  },
  {
   "cell_type": "code",
   "execution_count": 58,
   "id": "d4060b11",
   "metadata": {},
   "outputs": [
    {
     "data": {
      "text/plain": [
       "<function str.upper()>"
      ]
     },
     "execution_count": 58,
     "metadata": {},
     "output_type": "execute_result"
    }
   ],
   "source": [
    "name_string.upper"
   ]
  },
  {
   "cell_type": "code",
   "execution_count": 59,
   "id": "ff9272e1",
   "metadata": {},
   "outputs": [
    {
     "ename": "NameError",
     "evalue": "name 'name' is not defined",
     "output_type": "error",
     "traceback": [
      "\u001b[1;31m---------------------------------------------------------------------------\u001b[0m",
      "\u001b[1;31mNameError\u001b[0m                                 Traceback (most recent call last)",
      "Input \u001b[1;32mIn [59]\u001b[0m, in \u001b[0;36m<cell line: 1>\u001b[1;34m()\u001b[0m\n\u001b[1;32m----> 1\u001b[0m \u001b[43mname\u001b[49m\u001b[38;5;241m-\u001b[39mstring\u001b[38;5;241m.\u001b[39mupper()\n",
      "\u001b[1;31mNameError\u001b[0m: name 'name' is not defined"
     ]
    }
   ],
   "source": [
    "name-string.upper()"
   ]
  },
  {
   "cell_type": "code",
   "execution_count": 60,
   "id": "1d2fd5c0",
   "metadata": {},
   "outputs": [
    {
     "data": {
      "text/plain": [
       "\"I'M RAVI\""
      ]
     },
     "execution_count": 60,
     "metadata": {},
     "output_type": "execute_result"
    }
   ],
   "source": [
    "name_string.upper()"
   ]
  },
  {
   "cell_type": "code",
   "execution_count": 61,
   "id": "d5bea5e5",
   "metadata": {},
   "outputs": [
    {
     "data": {
      "text/plain": [
       "\"i'm ravi\""
      ]
     },
     "execution_count": 61,
     "metadata": {},
     "output_type": "execute_result"
    }
   ],
   "source": [
    "name_string.lower()"
   ]
  },
  {
   "cell_type": "code",
   "execution_count": 62,
   "id": "582f0df0",
   "metadata": {},
   "outputs": [],
   "source": [
    "another_string = \"Hi this is a string\""
   ]
  },
  {
   "cell_type": "code",
   "execution_count": 63,
   "id": "919a98b9",
   "metadata": {},
   "outputs": [
    {
     "data": {
      "text/plain": [
       "['H', ' th', 's ', 's a str', 'ng']"
      ]
     },
     "execution_count": 63,
     "metadata": {},
     "output_type": "execute_result"
    }
   ],
   "source": [
    "another_string.split('i')"
   ]
  },
  {
   "cell_type": "code",
   "execution_count": 64,
   "id": "2278fd60",
   "metadata": {},
   "outputs": [
    {
     "data": {
      "text/plain": [
       "['Hi', 'this', 'is', 'a', 'string']"
      ]
     },
     "execution_count": 64,
     "metadata": {},
     "output_type": "execute_result"
    }
   ],
   "source": [
    "another_string.split()"
   ]
  },
  {
   "cell_type": "code",
   "execution_count": 65,
   "id": "d3c840ad",
   "metadata": {},
   "outputs": [
    {
     "name": "stdout",
     "output_type": "stream",
     "text": [
      "I'm ravi from batti\n"
     ]
    }
   ],
   "source": [
    "name_string = \"I'm ravi\"\n",
    "place_string = \" from batti\"\n",
    "print(name_string + place_string)"
   ]
  },
  {
   "cell_type": "code",
   "execution_count": 66,
   "id": "ab215fb7",
   "metadata": {},
   "outputs": [
    {
     "name": "stdout",
     "output_type": "stream",
     "text": [
      "this is a stringInserted\n"
     ]
    }
   ],
   "source": [
    "print(\"this is a string{}\".format('Inserted'))"
   ]
  },
  {
   "cell_type": "code",
   "execution_count": 67,
   "id": "81ca13d9",
   "metadata": {},
   "outputs": [
    {
     "ename": "NameError",
     "evalue": "name 'detail' is not defined",
     "output_type": "error",
     "traceback": [
      "\u001b[1;31m---------------------------------------------------------------------------\u001b[0m",
      "\u001b[1;31mNameError\u001b[0m                                 Traceback (most recent call last)",
      "Input \u001b[1;32mIn [67]\u001b[0m, in \u001b[0;36m<cell line: 1>\u001b[1;34m()\u001b[0m\n\u001b[1;32m----> 1\u001b[0m \u001b[43mdetail\u001b[49m\u001b[38;5;241m.\u001b[39mformat(\u001b[38;5;124m'\u001b[39m\u001b[38;5;124mIm \u001b[39m\u001b[38;5;132;01m{}\u001b[39;00m\u001b[38;5;124m years old, from\u001b[39m\u001b[38;5;132;01m{}\u001b[39;00m\u001b[38;5;124m'\u001b[39m)\n",
      "\u001b[1;31mNameError\u001b[0m: name 'detail' is not defined"
     ]
    }
   ],
   "source": [
    "detail.format('Im {} years old, from{}')"
   ]
  },
  {
   "cell_type": "code",
   "execution_count": 68,
   "id": "f4a03049",
   "metadata": {},
   "outputs": [],
   "source": [
    "detail = 'Im {} years old, from{}'"
   ]
  },
  {
   "cell_type": "code",
   "execution_count": 69,
   "id": "d174e289",
   "metadata": {},
   "outputs": [
    {
     "ename": "NameError",
     "evalue": "name 'Batticaloa' is not defined",
     "output_type": "error",
     "traceback": [
      "\u001b[1;31m---------------------------------------------------------------------------\u001b[0m",
      "\u001b[1;31mNameError\u001b[0m                                 Traceback (most recent call last)",
      "Input \u001b[1;32mIn [69]\u001b[0m, in \u001b[0;36m<cell line: 1>\u001b[1;34m()\u001b[0m\n\u001b[1;32m----> 1\u001b[0m detail\u001b[38;5;241m.\u001b[39mformat(\u001b[38;5;241m14\u001b[39m,\u001b[43mBatticaloa\u001b[49m)\n",
      "\u001b[1;31mNameError\u001b[0m: name 'Batticaloa' is not defined"
     ]
    }
   ],
   "source": [
    "detail.format(14,Batticaloa)"
   ]
  },
  {
   "cell_type": "code",
   "execution_count": 70,
   "id": "b325845c",
   "metadata": {},
   "outputs": [
    {
     "data": {
      "text/plain": [
       "'Im 23 years old, fromBatti'"
      ]
     },
     "execution_count": 70,
     "metadata": {},
     "output_type": "execute_result"
    }
   ],
   "source": [
    "detail.format(23,'Batti')"
   ]
  },
  {
   "cell_type": "code",
   "execution_count": 71,
   "id": "ccdaaf6d",
   "metadata": {},
   "outputs": [],
   "source": [
    "detail ='Im {1} years old,from {0}'"
   ]
  },
  {
   "cell_type": "code",
   "execution_count": 72,
   "id": "c2661b19",
   "metadata": {},
   "outputs": [
    {
     "data": {
      "text/plain": [
       "'Im batti years old,from 23'"
      ]
     },
     "execution_count": 72,
     "metadata": {},
     "output_type": "execute_result"
    }
   ],
   "source": [
    "detail.format(23,'batti')"
   ]
  },
  {
   "cell_type": "code",
   "execution_count": 73,
   "id": "6ae9f1f9",
   "metadata": {},
   "outputs": [
    {
     "name": "stdout",
     "output_type": "stream",
     "text": [
      "the fox brown quick\n"
     ]
    }
   ],
   "source": [
    "print('the {1} {2} {0}'.format('quick','fox','brown'))"
   ]
  },
  {
   "cell_type": "code",
   "execution_count": 74,
   "id": "0911c3e3",
   "metadata": {},
   "outputs": [
    {
     "name": "stdout",
     "output_type": "stream",
     "text": [
      "the quick fox brown\n"
     ]
    }
   ],
   "source": [
    "print('the {q} {f} {b}'.format(q='quick',f='fox',b='brown'))"
   ]
  },
  {
   "cell_type": "code",
   "execution_count": 75,
   "id": "dff26a05",
   "metadata": {},
   "outputs": [
    {
     "ename": "SyntaxError",
     "evalue": "EOL while scanning string literal (3783532095.py, line 2)",
     "output_type": "error",
     "traceback": [
      "\u001b[1;36m  Input \u001b[1;32mIn [75]\u001b[1;36m\u001b[0m\n\u001b[1;33m    print(f'Hello, his name is {name})\u001b[0m\n\u001b[1;37m                                      ^\u001b[0m\n\u001b[1;31mSyntaxError\u001b[0m\u001b[1;31m:\u001b[0m EOL while scanning string literal\n"
     ]
    }
   ],
   "source": [
    "name = ravi\n",
    "print(f'Hello, his name is {name})"
   ]
  },
  {
   "cell_type": "code",
   "execution_count": 76,
   "id": "62598396",
   "metadata": {},
   "outputs": [
    {
     "ename": "NameError",
     "evalue": "name 'ravi' is not defined",
     "output_type": "error",
     "traceback": [
      "\u001b[1;31m---------------------------------------------------------------------------\u001b[0m",
      "\u001b[1;31mNameError\u001b[0m                                 Traceback (most recent call last)",
      "Input \u001b[1;32mIn [76]\u001b[0m, in \u001b[0;36m<cell line: 1>\u001b[1;34m()\u001b[0m\n\u001b[1;32m----> 1\u001b[0m name \u001b[38;5;241m=\u001b[39m \u001b[43mravi\u001b[49m\n\u001b[0;32m      2\u001b[0m \u001b[38;5;28mprint\u001b[39m(\u001b[38;5;124mf\u001b[39m\u001b[38;5;124m'\u001b[39m\u001b[38;5;124mHello, his name is \u001b[39m\u001b[38;5;132;01m{\u001b[39;00mname\u001b[38;5;132;01m}\u001b[39;00m\u001b[38;5;124m'\u001b[39m)\n",
      "\u001b[1;31mNameError\u001b[0m: name 'ravi' is not defined"
     ]
    }
   ],
   "source": [
    "name = ravi\n",
    "print(f'Hello, his name is {name}')"
   ]
  },
  {
   "cell_type": "code",
   "execution_count": 77,
   "id": "64e83f9d",
   "metadata": {},
   "outputs": [
    {
     "name": "stdout",
     "output_type": "stream",
     "text": [
      "Hello, his name is ravi\n"
     ]
    }
   ],
   "source": [
    "name = 'ravi'\n",
    "print(f'Hello, his name is {name}')"
   ]
  },
  {
   "cell_type": "code",
   "execution_count": 78,
   "id": "18e0e317",
   "metadata": {},
   "outputs": [
    {
     "name": "stdout",
     "output_type": "stream",
     "text": [
      "your result is 20.200\n"
     ]
    }
   ],
   "source": [
    "result =101/5\n",
    "print('your result is {r:1.3f}'.format(r=result))"
   ]
  },
  {
   "cell_type": "code",
   "execution_count": 79,
   "id": "9ae99be1",
   "metadata": {},
   "outputs": [
    {
     "name": "stdout",
     "output_type": "stream",
     "text": [
      "your result is 20.200\n"
     ]
    }
   ],
   "source": [
    "result =101/5\n",
    "print('your result is {:1.3f}'.format(result))"
   ]
  },
  {
   "cell_type": "code",
   "execution_count": 80,
   "id": "84252020",
   "metadata": {},
   "outputs": [],
   "source": [
    "new_string = \"I\\'m \\\"ravi\\\" \\nfrom batti\""
   ]
  },
  {
   "cell_type": "code",
   "execution_count": 81,
   "id": "8f9dceea",
   "metadata": {},
   "outputs": [
    {
     "name": "stdout",
     "output_type": "stream",
     "text": [
      "I'm \"ravi\" \n",
      "from batti\n"
     ]
    }
   ],
   "source": [
    "print(new_string)"
   ]
  },
  {
   "cell_type": "code",
   "execution_count": 82,
   "id": "7eb03280",
   "metadata": {},
   "outputs": [
    {
     "data": {
      "text/plain": [
       "list"
      ]
     },
     "execution_count": 82,
     "metadata": {},
     "output_type": "execute_result"
    }
   ],
   "source": [
    "new_list = ['p',1,2.5,[5.5,5,6],'do']\n",
    "type(new_list)"
   ]
  },
  {
   "cell_type": "code",
   "execution_count": 83,
   "id": "2231d126",
   "metadata": {},
   "outputs": [
    {
     "data": {
      "text/plain": [
       "[5.5, 5, 6]"
      ]
     },
     "execution_count": 83,
     "metadata": {},
     "output_type": "execute_result"
    }
   ],
   "source": [
    "new_list[3]"
   ]
  },
  {
   "cell_type": "code",
   "execution_count": 84,
   "id": "99891f09",
   "metadata": {},
   "outputs": [
    {
     "data": {
      "text/plain": [
       "'do'"
      ]
     },
     "execution_count": 84,
     "metadata": {},
     "output_type": "execute_result"
    }
   ],
   "source": [
    "new_list[4]"
   ]
  },
  {
   "cell_type": "code",
   "execution_count": 85,
   "id": "1ed8cb97",
   "metadata": {},
   "outputs": [
    {
     "data": {
      "text/plain": [
       "2.5"
      ]
     },
     "execution_count": 85,
     "metadata": {},
     "output_type": "execute_result"
    }
   ],
   "source": [
    "new_list[2]"
   ]
  },
  {
   "cell_type": "code",
   "execution_count": 86,
   "id": "b6908bd5",
   "metadata": {},
   "outputs": [
    {
     "name": "stdout",
     "output_type": "stream",
     "text": [
      "['one', 'two', 'three', 'four', 'five']\n"
     ]
    }
   ],
   "source": [
    "first_list = [\"one\",\"two\",\"three\"]\n",
    "second_list = [\"four\",\"five\"]\n",
    "final_list = first_list + second_list\n",
    "print(final_list)"
   ]
  },
  {
   "cell_type": "code",
   "execution_count": 87,
   "id": "af3fbb63",
   "metadata": {},
   "outputs": [
    {
     "name": "stdout",
     "output_type": "stream",
     "text": [
      "['one', 'two', 'three', 'four', 'five']\n"
     ]
    }
   ],
   "source": [
    "new_list[1] ='six'\n",
    "print(final_list)"
   ]
  },
  {
   "cell_type": "code",
   "execution_count": 88,
   "id": "26717ced",
   "metadata": {},
   "outputs": [
    {
     "name": "stdout",
     "output_type": "stream",
     "text": [
      "['one', 'six', 'three', 'four', 'five']\n"
     ]
    }
   ],
   "source": [
    "final_list[1] ='six'\n",
    "print(final_list)"
   ]
  },
  {
   "cell_type": "code",
   "execution_count": 89,
   "id": "e620f11b",
   "metadata": {},
   "outputs": [
    {
     "name": "stdout",
     "output_type": "stream",
     "text": [
      "['one', 'two', 'three', 'four', 'five']\n"
     ]
    }
   ],
   "source": [
    "final_list[1] ='two'\n",
    "print(final_list)"
   ]
  },
  {
   "cell_type": "code",
   "execution_count": 90,
   "id": "0773d6b3",
   "metadata": {},
   "outputs": [
    {
     "name": "stdout",
     "output_type": "stream",
     "text": [
      "['one', 'two', 'three', 'four', 'five', 'six']\n"
     ]
    }
   ],
   "source": [
    "final_list.append('six')\n",
    "print(final_list)"
   ]
  },
  {
   "cell_type": "code",
   "execution_count": 91,
   "id": "510308b2",
   "metadata": {},
   "outputs": [
    {
     "data": {
      "text/plain": [
       "'six'"
      ]
     },
     "execution_count": 91,
     "metadata": {},
     "output_type": "execute_result"
    }
   ],
   "source": [
    "final_list.pop()"
   ]
  },
  {
   "cell_type": "code",
   "execution_count": 92,
   "id": "6a146b77",
   "metadata": {},
   "outputs": [
    {
     "data": {
      "text/plain": [
       "['one', 'two', 'three', 'four', 'five']"
      ]
     },
     "execution_count": 92,
     "metadata": {},
     "output_type": "execute_result"
    }
   ],
   "source": [
    "final_list"
   ]
  },
  {
   "cell_type": "code",
   "execution_count": 93,
   "id": "566bc341",
   "metadata": {},
   "outputs": [
    {
     "data": {
      "text/plain": [
       "'three'"
      ]
     },
     "execution_count": 93,
     "metadata": {},
     "output_type": "execute_result"
    }
   ],
   "source": [
    "final_list.pop(2)"
   ]
  },
  {
   "cell_type": "code",
   "execution_count": 94,
   "id": "5f315010",
   "metadata": {},
   "outputs": [
    {
     "data": {
      "text/plain": [
       "['one', 'two', 'four', 'five']"
      ]
     },
     "execution_count": 94,
     "metadata": {},
     "output_type": "execute_result"
    }
   ],
   "source": [
    "final_list"
   ]
  },
  {
   "cell_type": "code",
   "execution_count": 95,
   "id": "7da4b546",
   "metadata": {},
   "outputs": [],
   "source": [
    "num_list = [2,5,8,0]"
   ]
  },
  {
   "cell_type": "code",
   "execution_count": 96,
   "id": "2393abd3",
   "metadata": {},
   "outputs": [],
   "source": [
    "character_list = ['h','t','t','e']"
   ]
  },
  {
   "cell_type": "code",
   "execution_count": 97,
   "id": "54eb885a",
   "metadata": {},
   "outputs": [
    {
     "name": "stdout",
     "output_type": "stream",
     "text": [
      "[0, 2, 5, 8]\n"
     ]
    }
   ],
   "source": [
    "num_list.sort()\n",
    "print(num_list)"
   ]
  },
  {
   "cell_type": "code",
   "execution_count": 98,
   "id": "a38fb6c4",
   "metadata": {},
   "outputs": [],
   "source": [
    "num_list.sort(reverse=True)"
   ]
  },
  {
   "cell_type": "code",
   "execution_count": 99,
   "id": "c8678d30",
   "metadata": {},
   "outputs": [
    {
     "name": "stdout",
     "output_type": "stream",
     "text": [
      "[8, 5, 2, 0]\n"
     ]
    }
   ],
   "source": [
    "print(num_list)"
   ]
  },
  {
   "cell_type": "code",
   "execution_count": 100,
   "id": "0700080c",
   "metadata": {},
   "outputs": [],
   "source": [
    "character_list.sort()"
   ]
  },
  {
   "cell_type": "code",
   "execution_count": 101,
   "id": "e2a381d0",
   "metadata": {},
   "outputs": [
    {
     "name": "stdout",
     "output_type": "stream",
     "text": [
      "['e', 'h', 't', 't']\n",
      "['t', 't', 'h', 'e']\n"
     ]
    }
   ],
   "source": [
    "print(character_list)\n",
    "character_list.sort(reverse=True)\n",
    "print(character_list)"
   ]
  },
  {
   "cell_type": "code",
   "execution_count": 102,
   "id": "228bb606",
   "metadata": {},
   "outputs": [
    {
     "ename": "NameError",
     "evalue": "name 'chracter_list' is not defined",
     "output_type": "error",
     "traceback": [
      "\u001b[1;31m---------------------------------------------------------------------------\u001b[0m",
      "\u001b[1;31mNameError\u001b[0m                                 Traceback (most recent call last)",
      "Input \u001b[1;32mIn [102]\u001b[0m, in \u001b[0;36m<cell line: 1>\u001b[1;34m()\u001b[0m\n\u001b[1;32m----> 1\u001b[0m \u001b[43mchracter_list\u001b[49m\u001b[38;5;241m.\u001b[39mreverse()\n",
      "\u001b[1;31mNameError\u001b[0m: name 'chracter_list' is not defined"
     ]
    }
   ],
   "source": [
    "chracter_list.reverse()"
   ]
  },
  {
   "cell_type": "code",
   "execution_count": 103,
   "id": "39438990",
   "metadata": {},
   "outputs": [],
   "source": [
    "character_list.reverse()"
   ]
  },
  {
   "cell_type": "code",
   "execution_count": 104,
   "id": "48f36ab7",
   "metadata": {},
   "outputs": [
    {
     "name": "stdout",
     "output_type": "stream",
     "text": [
      "None\n"
     ]
    }
   ],
   "source": [
    "print(character_list.reverse())"
   ]
  },
  {
   "cell_type": "code",
   "execution_count": 105,
   "id": "e34917d8",
   "metadata": {},
   "outputs": [],
   "source": [
    "character_list.reverse()"
   ]
  },
  {
   "cell_type": "code",
   "execution_count": 106,
   "id": "b80c5f08",
   "metadata": {},
   "outputs": [
    {
     "name": "stdout",
     "output_type": "stream",
     "text": [
      "['e', 'h', 't', 't']\n"
     ]
    }
   ],
   "source": [
    "print(character_list)"
   ]
  },
  {
   "cell_type": "code",
   "execution_count": 107,
   "id": "35c1f6cb",
   "metadata": {},
   "outputs": [
    {
     "data": {
      "text/plain": [
       "['h']"
      ]
     },
     "execution_count": 107,
     "metadata": {},
     "output_type": "execute_result"
    }
   ],
   "source": [
    "character_list[1:3:2]"
   ]
  },
  {
   "cell_type": "code",
   "execution_count": null,
   "id": "0d37cf7a",
   "metadata": {},
   "outputs": [],
   "source": []
  }
 ],
 "metadata": {
  "kernelspec": {
   "display_name": "Python 3 (ipykernel)",
   "language": "python",
   "name": "python3"
  },
  "language_info": {
   "codemirror_mode": {
    "name": "ipython",
    "version": 3
   },
   "file_extension": ".py",
   "mimetype": "text/x-python",
   "name": "python",
   "nbconvert_exporter": "python",
   "pygments_lexer": "ipython3",
   "version": "3.9.12"
  }
 },
 "nbformat": 4,
 "nbformat_minor": 5
}
