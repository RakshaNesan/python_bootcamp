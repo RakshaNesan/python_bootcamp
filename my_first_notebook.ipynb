{
 "cells": [
  {
   "cell_type": "code",
   "execution_count": 1,
   "id": "b2918b22",
   "metadata": {},
   "outputs": [],
   "source": [
    "new_string = 'I \\'m a human'"
   ]
  },
  {
   "cell_type": "code",
   "execution_count": 2,
   "id": "bdcb02a3",
   "metadata": {},
   "outputs": [
    {
     "ename": "SyntaxError",
     "evalue": "invalid syntax (15825199.py, line 1)",
     "output_type": "error",
     "traceback": [
      "\u001b[1;36m  Input \u001b[1;32mIn [2]\u001b[1;36m\u001b[0m\n\u001b[1;33m    new _string =\u001b[0m\n\u001b[1;37m        ^\u001b[0m\n\u001b[1;31mSyntaxError\u001b[0m\u001b[1;31m:\u001b[0m invalid syntax\n"
     ]
    }
   ],
   "source": [
    "new _string = "
   ]
  },
  {
   "cell_type": "code",
   "execution_count": 3,
   "id": "655c4a4e",
   "metadata": {},
   "outputs": [
    {
     "ename": "SyntaxError",
     "evalue": "invalid syntax (1128532758.py, line 1)",
     "output_type": "error",
     "traceback": [
      "\u001b[1;36m  Input \u001b[1;32mIn [3]\u001b[1;36m\u001b[0m\n\u001b[1;33m    new_string =\u001b[0m\n\u001b[1;37m                ^\u001b[0m\n\u001b[1;31mSyntaxError\u001b[0m\u001b[1;31m:\u001b[0m invalid syntax\n"
     ]
    }
   ],
   "source": [
    "new_string ="
   ]
  },
  {
   "cell_type": "code",
   "execution_count": 4,
   "id": "70bc637d",
   "metadata": {},
   "outputs": [],
   "source": [
    "new_string = 'I\\'m a human'"
   ]
  },
  {
   "cell_type": "code",
   "execution_count": 5,
   "id": "4c196b9c",
   "metadata": {},
   "outputs": [
    {
     "ename": "NameError",
     "evalue": "name 'new' is not defined",
     "output_type": "error",
     "traceback": [
      "\u001b[1;31m---------------------------------------------------------------------------\u001b[0m",
      "\u001b[1;31mNameError\u001b[0m                                 Traceback (most recent call last)",
      "Input \u001b[1;32mIn [5]\u001b[0m, in \u001b[0;36m<cell line: 1>\u001b[1;34m()\u001b[0m\n\u001b[1;32m----> 1\u001b[0m \u001b[43mnew\u001b[49m\n",
      "\u001b[1;31mNameError\u001b[0m: name 'new' is not defined"
     ]
    }
   ],
   "source": [
    "new"
   ]
  },
  {
   "cell_type": "code",
   "execution_count": 6,
   "id": "8d880be5",
   "metadata": {},
   "outputs": [
    {
     "ename": "SyntaxError",
     "evalue": "invalid syntax (1128532758.py, line 1)",
     "output_type": "error",
     "traceback": [
      "\u001b[1;36m  Input \u001b[1;32mIn [6]\u001b[1;36m\u001b[0m\n\u001b[1;33m    new_string =\u001b[0m\n\u001b[1;37m                ^\u001b[0m\n\u001b[1;31mSyntaxError\u001b[0m\u001b[1;31m:\u001b[0m invalid syntax\n"
     ]
    }
   ],
   "source": [
    "new_string ="
   ]
  },
  {
   "cell_type": "code",
   "execution_count": 7,
   "id": "053d0f04",
   "metadata": {},
   "outputs": [
    {
     "data": {
      "text/plain": [
       "\"I'm a human\""
      ]
     },
     "execution_count": 7,
     "metadata": {},
     "output_type": "execute_result"
    }
   ],
   "source": [
    "new_string"
   ]
  },
  {
   "cell_type": "code",
   "execution_count": 8,
   "id": "eedcfb81",
   "metadata": {},
   "outputs": [],
   "source": [
    "new_string ='i \"ravi\" from batti'"
   ]
  },
  {
   "cell_type": "code",
   "execution_count": 9,
   "id": "d16f43a0",
   "metadata": {},
   "outputs": [
    {
     "data": {
      "text/plain": [
       "'i \"ravi\" from batti'"
      ]
     },
     "execution_count": 9,
     "metadata": {},
     "output_type": "execute_result"
    }
   ],
   "source": [
    "new_string"
   ]
  },
  {
   "cell_type": "code",
   "execution_count": 10,
   "id": "e3e81164",
   "metadata": {},
   "outputs": [],
   "source": [
    "new_string ='I\\'m \"ara\" from batti'"
   ]
  },
  {
   "cell_type": "code",
   "execution_count": 11,
   "id": "e25e3d15",
   "metadata": {},
   "outputs": [
    {
     "data": {
      "text/plain": [
       "'I\\'m \"ara\" from batti'"
      ]
     },
     "execution_count": 11,
     "metadata": {},
     "output_type": "execute_result"
    }
   ],
   "source": [
    "new_string"
   ]
  },
  {
   "cell_type": "code",
   "execution_count": 12,
   "id": "9fa95fed",
   "metadata": {},
   "outputs": [
    {
     "name": "stdout",
     "output_type": "stream",
     "text": [
      "I'm \"ara\" from batti\n"
     ]
    }
   ],
   "source": [
    "print(new_string)"
   ]
  },
  {
   "cell_type": "code",
   "execution_count": 13,
   "id": "22d70bcc",
   "metadata": {},
   "outputs": [],
   "source": [
    "new_string =\"I\\'m \\\"ara\\\"from batti\""
   ]
  },
  {
   "cell_type": "code",
   "execution_count": 14,
   "id": "c999fcd2",
   "metadata": {},
   "outputs": [
    {
     "name": "stdout",
     "output_type": "stream",
     "text": [
      "I'm \"ara\"from batti\n"
     ]
    }
   ],
   "source": [
    "print(new_string)"
   ]
  },
  {
   "cell_type": "code",
   "execution_count": 15,
   "id": "3d65f169",
   "metadata": {},
   "outputs": [],
   "source": [
    "new_string =\"hi \\\\ brother\""
   ]
  },
  {
   "cell_type": "code",
   "execution_count": 16,
   "id": "25fc897c",
   "metadata": {},
   "outputs": [
    {
     "name": "stdout",
     "output_type": "stream",
     "text": [
      "hi \\ brother\n"
     ]
    }
   ],
   "source": [
    "print(new_string)"
   ]
  },
  {
   "cell_type": "code",
   "execution_count": 17,
   "id": "84036d17",
   "metadata": {},
   "outputs": [],
   "source": [
    "new_string =\"hi \\t brother\""
   ]
  },
  {
   "cell_type": "code",
   "execution_count": 18,
   "id": "a6dac460",
   "metadata": {},
   "outputs": [
    {
     "name": "stdout",
     "output_type": "stream",
     "text": [
      "hi \t brother\n"
     ]
    }
   ],
   "source": [
    "print(new_string)"
   ]
  },
  {
   "cell_type": "code",
   "execution_count": 21,
   "id": "f7d6df9f",
   "metadata": {},
   "outputs": [],
   "source": [
    "new_string = \"hi\\bbrother\""
   ]
  },
  {
   "cell_type": "code",
   "execution_count": 22,
   "id": "a1478b2b",
   "metadata": {},
   "outputs": [
    {
     "name": "stdout",
     "output_type": "stream",
     "text": [
      "hi\bbrother\n"
     ]
    }
   ],
   "source": [
    "print(new_string)"
   ]
  },
  {
   "cell_type": "code",
   "execution_count": 23,
   "id": "44444e56",
   "metadata": {},
   "outputs": [],
   "source": [
    "new_string = \"I'm ravi\""
   ]
  },
  {
   "cell_type": "code",
   "execution_count": 24,
   "id": "45822518",
   "metadata": {},
   "outputs": [
    {
     "data": {
      "text/plain": [
       "'I'"
      ]
     },
     "execution_count": 24,
     "metadata": {},
     "output_type": "execute_result"
    }
   ],
   "source": [
    "new_string[0]"
   ]
  },
  {
   "cell_type": "code",
   "execution_count": 25,
   "id": "d4f51604",
   "metadata": {},
   "outputs": [
    {
     "data": {
      "text/plain": [
       "\"'\""
      ]
     },
     "execution_count": 25,
     "metadata": {},
     "output_type": "execute_result"
    }
   ],
   "source": [
    "new_string[1]"
   ]
  },
  {
   "cell_type": "code",
   "execution_count": 26,
   "id": "9428858f",
   "metadata": {},
   "outputs": [
    {
     "ename": "NameError",
     "evalue": "name 'new_sring' is not defined",
     "output_type": "error",
     "traceback": [
      "\u001b[1;31m---------------------------------------------------------------------------\u001b[0m",
      "\u001b[1;31mNameError\u001b[0m                                 Traceback (most recent call last)",
      "Input \u001b[1;32mIn [26]\u001b[0m, in \u001b[0;36m<cell line: 1>\u001b[1;34m()\u001b[0m\n\u001b[1;32m----> 1\u001b[0m \u001b[43mnew_sring\u001b[49m[\u001b[38;5;241m-\u001b[39m\u001b[38;5;241m3\u001b[39m]\n",
      "\u001b[1;31mNameError\u001b[0m: name 'new_sring' is not defined"
     ]
    }
   ],
   "source": [
    "new_sring[-3]"
   ]
  },
  {
   "cell_type": "code",
   "execution_count": 27,
   "id": "6230e2fe",
   "metadata": {},
   "outputs": [
    {
     "data": {
      "text/plain": [
       "'a'"
      ]
     },
     "execution_count": 27,
     "metadata": {},
     "output_type": "execute_result"
    }
   ],
   "source": [
    "new_string[-3]"
   ]
  },
  {
   "cell_type": "code",
   "execution_count": 28,
   "id": "705824bd",
   "metadata": {},
   "outputs": [
    {
     "data": {
      "text/plain": [
       "8"
      ]
     },
     "execution_count": 28,
     "metadata": {},
     "output_type": "execute_result"
    }
   ],
   "source": [
    "len(new_string)"
   ]
  },
  {
   "cell_type": "code",
   "execution_count": 29,
   "id": "d99a976f",
   "metadata": {},
   "outputs": [
    {
     "ename": "NameError",
     "evalue": "name 'new' is not defined",
     "output_type": "error",
     "traceback": [
      "\u001b[1;31m---------------------------------------------------------------------------\u001b[0m",
      "\u001b[1;31mNameError\u001b[0m                                 Traceback (most recent call last)",
      "Input \u001b[1;32mIn [29]\u001b[0m, in \u001b[0;36m<cell line: 1>\u001b[1;34m()\u001b[0m\n\u001b[1;32m----> 1\u001b[0m new_string[\u001b[38;5;28mlen\u001b[39m(\u001b[43mnew\u001b[49m\u001b[38;5;241m-\u001b[39mstring)\u001b[38;5;241m-\u001b[39m\u001b[38;5;241m1\u001b[39m]\n",
      "\u001b[1;31mNameError\u001b[0m: name 'new' is not defined"
     ]
    }
   ],
   "source": [
    "new_string[len(new-string)-1]"
   ]
  },
  {
   "cell_type": "code",
   "execution_count": 30,
   "id": "9051e5f9",
   "metadata": {},
   "outputs": [
    {
     "data": {
      "text/plain": [
       "'i'"
      ]
     },
     "execution_count": 30,
     "metadata": {},
     "output_type": "execute_result"
    }
   ],
   "source": [
    "new_string[len(new_string)-1]"
   ]
  },
  {
   "cell_type": "code",
   "execution_count": 31,
   "id": "bd4380e3",
   "metadata": {},
   "outputs": [],
   "source": [
    "new_string = \"I'm ravi\""
   ]
  },
  {
   "cell_type": "code",
   "execution_count": 32,
   "id": "4eda7db2",
   "metadata": {},
   "outputs": [
    {
     "data": {
      "text/plain": [
       "'rav'"
      ]
     },
     "execution_count": 32,
     "metadata": {},
     "output_type": "execute_result"
    }
   ],
   "source": [
    "new_string[4:7]"
   ]
  },
  {
   "cell_type": "code",
   "execution_count": 33,
   "id": "ea33f928",
   "metadata": {},
   "outputs": [
    {
     "data": {
      "text/plain": [
       "'ravi'"
      ]
     },
     "execution_count": 33,
     "metadata": {},
     "output_type": "execute_result"
    }
   ],
   "source": [
    "new_string[4:]"
   ]
  },
  {
   "cell_type": "code",
   "execution_count": 34,
   "id": "87f62230",
   "metadata": {},
   "outputs": [
    {
     "data": {
      "text/plain": [
       "\"I'm ravi\""
      ]
     },
     "execution_count": 34,
     "metadata": {},
     "output_type": "execute_result"
    }
   ],
   "source": [
    "new_string"
   ]
  },
  {
   "cell_type": "code",
   "execution_count": 35,
   "id": "3d2c908b",
   "metadata": {},
   "outputs": [
    {
     "data": {
      "text/plain": [
       "'m '"
      ]
     },
     "execution_count": 35,
     "metadata": {},
     "output_type": "execute_result"
    }
   ],
   "source": [
    "new_string[2:4]"
   ]
  },
  {
   "cell_type": "code",
   "execution_count": 36,
   "id": "2e3701cb",
   "metadata": {},
   "outputs": [
    {
     "data": {
      "text/plain": [
       "'m r'"
      ]
     },
     "execution_count": 36,
     "metadata": {},
     "output_type": "execute_result"
    }
   ],
   "source": [
    "new_string[2:5]"
   ]
  },
  {
   "cell_type": "code",
   "execution_count": 37,
   "id": "21708bff",
   "metadata": {},
   "outputs": [
    {
     "data": {
      "text/plain": [
       "\"' a\""
      ]
     },
     "execution_count": 37,
     "metadata": {},
     "output_type": "execute_result"
    }
   ],
   "source": [
    "new_string[1:6:2]"
   ]
  },
  {
   "cell_type": "code",
   "execution_count": 38,
   "id": "ec1946c1",
   "metadata": {},
   "outputs": [
    {
     "data": {
      "text/plain": [
       "\"'m ra\""
      ]
     },
     "execution_count": 38,
     "metadata": {},
     "output_type": "execute_result"
    }
   ],
   "source": [
    "new_string[1:6]"
   ]
  },
  {
   "cell_type": "code",
   "execution_count": 39,
   "id": "22efdbbb",
   "metadata": {},
   "outputs": [
    {
     "data": {
      "text/plain": [
       "\"'m rav\""
      ]
     },
     "execution_count": 39,
     "metadata": {},
     "output_type": "execute_result"
    }
   ],
   "source": [
    "new_string[1:7]"
   ]
  },
  {
   "cell_type": "code",
   "execution_count": 40,
   "id": "382e2e8a",
   "metadata": {},
   "outputs": [
    {
     "data": {
      "text/plain": [
       "\"'r\""
      ]
     },
     "execution_count": 40,
     "metadata": {},
     "output_type": "execute_result"
    }
   ],
   "source": [
    "new_string[1:7:3]"
   ]
  },
  {
   "cell_type": "code",
   "execution_count": 41,
   "id": "8f0049ed",
   "metadata": {},
   "outputs": [
    {
     "data": {
      "text/plain": [
       "'Imr'"
      ]
     },
     "execution_count": 41,
     "metadata": {},
     "output_type": "execute_result"
    }
   ],
   "source": [
    "new_string[0:6:2]"
   ]
  },
  {
   "cell_type": "code",
   "execution_count": 42,
   "id": "17b3074b",
   "metadata": {},
   "outputs": [
    {
     "data": {
      "text/plain": [
       "'Im'"
      ]
     },
     "execution_count": 42,
     "metadata": {},
     "output_type": "execute_result"
    }
   ],
   "source": [
    "new_string[0:4:2]"
   ]
  },
  {
   "cell_type": "code",
   "execution_count": 43,
   "id": "aefd054e",
   "metadata": {},
   "outputs": [
    {
     "data": {
      "text/plain": [
       "\"I'm r\""
      ]
     },
     "execution_count": 43,
     "metadata": {},
     "output_type": "execute_result"
    }
   ],
   "source": [
    "new_string[0:5:1]"
   ]
  },
  {
   "cell_type": "code",
   "execution_count": 44,
   "id": "62e7a8db",
   "metadata": {},
   "outputs": [
    {
     "data": {
      "text/plain": [
       "\"I'm rav\""
      ]
     },
     "execution_count": 44,
     "metadata": {},
     "output_type": "execute_result"
    }
   ],
   "source": [
    "new_string[:7]"
   ]
  },
  {
   "cell_type": "code",
   "execution_count": 45,
   "id": "0f968b12",
   "metadata": {},
   "outputs": [
    {
     "data": {
      "text/plain": [
       "\"I'm ravi\""
      ]
     },
     "execution_count": 45,
     "metadata": {},
     "output_type": "execute_result"
    }
   ],
   "source": [
    "new_string[:]"
   ]
  },
  {
   "cell_type": "code",
   "execution_count": 46,
   "id": "eab3547e",
   "metadata": {},
   "outputs": [
    {
     "data": {
      "text/plain": [
       "'Ir'"
      ]
     },
     "execution_count": 46,
     "metadata": {},
     "output_type": "execute_result"
    }
   ],
   "source": [
    "new_string[0:7:4]"
   ]
  },
  {
   "cell_type": "code",
   "execution_count": 47,
   "id": "0977bc9e",
   "metadata": {},
   "outputs": [
    {
     "data": {
      "text/plain": [
       "'Iv'"
      ]
     },
     "execution_count": 47,
     "metadata": {},
     "output_type": "execute_result"
    }
   ],
   "source": [
    "new_string[0:7:6]"
   ]
  },
  {
   "cell_type": "code",
   "execution_count": 48,
   "id": "55ef7912",
   "metadata": {},
   "outputs": [
    {
     "data": {
      "text/plain": [
       "'Iv'"
      ]
     },
     "execution_count": 48,
     "metadata": {},
     "output_type": "execute_result"
    }
   ],
   "source": [
    "new_string[::6]"
   ]
  },
  {
   "cell_type": "code",
   "execution_count": 49,
   "id": "6be68511",
   "metadata": {},
   "outputs": [
    {
     "data": {
      "text/plain": [
       "\"ivar m'I\""
      ]
     },
     "execution_count": 49,
     "metadata": {},
     "output_type": "execute_result"
    }
   ],
   "source": [
    "new_string[::-1]"
   ]
  },
  {
   "cell_type": "code",
   "execution_count": 50,
   "id": "a8b8f9f2",
   "metadata": {},
   "outputs": [
    {
     "data": {
      "text/plain": [
       "\"ia '\""
      ]
     },
     "execution_count": 50,
     "metadata": {},
     "output_type": "execute_result"
    }
   ],
   "source": [
    "new_string[::-2]"
   ]
  },
  {
   "cell_type": "code",
   "execution_count": 51,
   "id": "4cad7da1",
   "metadata": {},
   "outputs": [],
   "source": [
    "next_string = new_string[::2]"
   ]
  },
  {
   "cell_type": "code",
   "execution_count": 52,
   "id": "e1d888bb",
   "metadata": {},
   "outputs": [
    {
     "data": {
      "text/plain": [
       "\"ia '\""
      ]
     },
     "execution_count": 52,
     "metadata": {},
     "output_type": "execute_result"
    }
   ],
   "source": [
    "next_string"
   ]
  },
  {
   "cell_type": "code",
   "execution_count": 53,
   "id": "f9242d7e",
   "metadata": {},
   "outputs": [],
   "source": [
    "new1_string = new_string[::-1]"
   ]
  },
  {
   "cell_type": "code",
   "execution_count": 54,
   "id": "408f712b",
   "metadata": {},
   "outputs": [
    {
     "data": {
      "text/plain": [
       "\"ivar m'I\""
      ]
     },
     "execution_count": 54,
     "metadata": {},
     "output_type": "execute_result"
    }
   ],
   "source": [
    "new1_string"
   ]
  },
  {
   "cell_type": "code",
   "execution_count": 55,
   "id": "2863b3f1",
   "metadata": {},
   "outputs": [
    {
     "ename": "TypeError",
     "evalue": "'str' object does not support item assignment",
     "output_type": "error",
     "traceback": [
      "\u001b[1;31m---------------------------------------------------------------------------\u001b[0m",
      "\u001b[1;31mTypeError\u001b[0m                                 Traceback (most recent call last)",
      "Input \u001b[1;32mIn [55]\u001b[0m, in \u001b[0;36m<cell line: 1>\u001b[1;34m()\u001b[0m\n\u001b[1;32m----> 1\u001b[0m new1_string[\u001b[38;5;241m2\u001b[39m]\u001b[38;5;241m=\u001b[39m\u001b[38;5;124m\"\u001b[39m\u001b[38;5;124mk\u001b[39m\u001b[38;5;124m\"\u001b[39m\n",
      "\u001b[1;31mTypeError\u001b[0m: 'str' object does not support item assignment"
     ]
    }
   ],
   "source": [
    "new1_string[2]=\"k\""
   ]
  },
  {
   "cell_type": "code",
   "execution_count": 56,
   "id": "fe7787b1",
   "metadata": {},
   "outputs": [
    {
     "name": "stdout",
     "output_type": "stream",
     "text": [
      "I'm ravifrom batti\n"
     ]
    }
   ],
   "source": [
    "name_string = \"I'm ravi\"\n",
    "place_string = \"from batti\"\n",
    "print(name_string + place_string)"
   ]
  },
  {
   "cell_type": "code",
   "execution_count": 57,
   "id": "0fda096b",
   "metadata": {},
   "outputs": [
    {
     "name": "stdout",
     "output_type": "stream",
     "text": [
      "I'm ravi from batti\n"
     ]
    }
   ],
   "source": [
    "name_string = \"I'm ravi\"\n",
    "place_string = \" from batti\"\n",
    "print(name_string + place_string)"
   ]
  },
  {
   "cell_type": "code",
   "execution_count": 58,
   "id": "7b6bd517",
   "metadata": {},
   "outputs": [
    {
     "data": {
      "text/plain": [
       "<function str.upper()>"
      ]
     },
     "execution_count": 58,
     "metadata": {},
     "output_type": "execute_result"
    }
   ],
   "source": [
    "name_string.upper"
   ]
  },
  {
   "cell_type": "code",
   "execution_count": 59,
   "id": "d8c12681",
   "metadata": {},
   "outputs": [
    {
     "ename": "NameError",
     "evalue": "name 'name' is not defined",
     "output_type": "error",
     "traceback": [
      "\u001b[1;31m---------------------------------------------------------------------------\u001b[0m",
      "\u001b[1;31mNameError\u001b[0m                                 Traceback (most recent call last)",
      "Input \u001b[1;32mIn [59]\u001b[0m, in \u001b[0;36m<cell line: 1>\u001b[1;34m()\u001b[0m\n\u001b[1;32m----> 1\u001b[0m \u001b[43mname\u001b[49m\u001b[38;5;241m-\u001b[39mstring\u001b[38;5;241m.\u001b[39mupper()\n",
      "\u001b[1;31mNameError\u001b[0m: name 'name' is not defined"
     ]
    }
   ],
   "source": [
    "name-string.upper()"
   ]
  },
  {
   "cell_type": "code",
   "execution_count": 60,
   "id": "b43564e2",
   "metadata": {},
   "outputs": [
    {
     "data": {
      "text/plain": [
       "\"I'M RAVI\""
      ]
     },
     "execution_count": 60,
     "metadata": {},
     "output_type": "execute_result"
    }
   ],
   "source": [
    "name_string.upper()"
   ]
  },
  {
   "cell_type": "code",
   "execution_count": 61,
   "id": "85286ae4",
   "metadata": {},
   "outputs": [
    {
     "data": {
      "text/plain": [
       "\"i'm ravi\""
      ]
     },
     "execution_count": 61,
     "metadata": {},
     "output_type": "execute_result"
    }
   ],
   "source": [
    "name_string.lower()"
   ]
  },
  {
   "cell_type": "code",
   "execution_count": 62,
   "id": "6ebac7fc",
   "metadata": {},
   "outputs": [],
   "source": [
    "another_string = \"Hi this is a string\""
   ]
  },
  {
   "cell_type": "code",
   "execution_count": 63,
   "id": "a3d9ca01",
   "metadata": {},
   "outputs": [
    {
     "data": {
      "text/plain": [
       "['H', ' th', 's ', 's a str', 'ng']"
      ]
     },
     "execution_count": 63,
     "metadata": {},
     "output_type": "execute_result"
    }
   ],
   "source": [
    "another_string.split('i')"
   ]
  },
  {
   "cell_type": "code",
   "execution_count": 64,
   "id": "f5e6f5aa",
   "metadata": {},
   "outputs": [
    {
     "data": {
      "text/plain": [
       "['Hi', 'this', 'is', 'a', 'string']"
      ]
     },
     "execution_count": 64,
     "metadata": {},
     "output_type": "execute_result"
    }
   ],
   "source": [
    "another_string.split()"
   ]
  },
  {
   "cell_type": "code",
   "execution_count": 65,
   "id": "c122bed2",
   "metadata": {},
   "outputs": [
    {
     "name": "stdout",
     "output_type": "stream",
     "text": [
      "I'm ravi from batti\n"
     ]
    }
   ],
   "source": [
    "name_string = \"I'm ravi\"\n",
    "place_string = \" from batti\"\n",
    "print(name_string + place_string)"
   ]
  },
  {
   "cell_type": "code",
   "execution_count": 66,
   "id": "d2296c97",
   "metadata": {},
   "outputs": [
    {
     "name": "stdout",
     "output_type": "stream",
     "text": [
      "this is a stringInserted\n"
     ]
    }
   ],
   "source": [
    "print(\"this is a string{}\".format('Inserted'))"
   ]
  },
  {
   "cell_type": "code",
   "execution_count": 67,
   "id": "3e21c387",
   "metadata": {},
   "outputs": [
    {
     "ename": "NameError",
     "evalue": "name 'detail' is not defined",
     "output_type": "error",
     "traceback": [
      "\u001b[1;31m---------------------------------------------------------------------------\u001b[0m",
      "\u001b[1;31mNameError\u001b[0m                                 Traceback (most recent call last)",
      "Input \u001b[1;32mIn [67]\u001b[0m, in \u001b[0;36m<cell line: 1>\u001b[1;34m()\u001b[0m\n\u001b[1;32m----> 1\u001b[0m \u001b[43mdetail\u001b[49m\u001b[38;5;241m.\u001b[39mformat(\u001b[38;5;124m'\u001b[39m\u001b[38;5;124mIm \u001b[39m\u001b[38;5;132;01m{}\u001b[39;00m\u001b[38;5;124m years old, from\u001b[39m\u001b[38;5;132;01m{}\u001b[39;00m\u001b[38;5;124m'\u001b[39m)\n",
      "\u001b[1;31mNameError\u001b[0m: name 'detail' is not defined"
     ]
    }
   ],
   "source": [
    "detail.format('Im {} years old, from{}')"
   ]
  },
  {
   "cell_type": "code",
   "execution_count": 68,
   "id": "f0da9548",
   "metadata": {},
   "outputs": [],
   "source": [
    "detail = 'Im {} years old, from{}'"
   ]
  },
  {
   "cell_type": "code",
   "execution_count": 69,
   "id": "1dfff27f",
   "metadata": {},
   "outputs": [
    {
     "ename": "NameError",
     "evalue": "name 'Batticaloa' is not defined",
     "output_type": "error",
     "traceback": [
      "\u001b[1;31m---------------------------------------------------------------------------\u001b[0m",
      "\u001b[1;31mNameError\u001b[0m                                 Traceback (most recent call last)",
      "Input \u001b[1;32mIn [69]\u001b[0m, in \u001b[0;36m<cell line: 1>\u001b[1;34m()\u001b[0m\n\u001b[1;32m----> 1\u001b[0m detail\u001b[38;5;241m.\u001b[39mformat(\u001b[38;5;241m14\u001b[39m,\u001b[43mBatticaloa\u001b[49m)\n",
      "\u001b[1;31mNameError\u001b[0m: name 'Batticaloa' is not defined"
     ]
    }
   ],
   "source": [
    "detail.format(14,Batticaloa)"
   ]
  },
  {
   "cell_type": "code",
   "execution_count": 70,
   "id": "22c923db",
   "metadata": {},
   "outputs": [
    {
     "data": {
      "text/plain": [
       "'Im 23 years old, fromBatti'"
      ]
     },
     "execution_count": 70,
     "metadata": {},
     "output_type": "execute_result"
    }
   ],
   "source": [
    "detail.format(23,'Batti')"
   ]
  },
  {
   "cell_type": "code",
   "execution_count": 71,
   "id": "7659676e",
   "metadata": {},
   "outputs": [],
   "source": [
    "detail ='Im {1} years old,from {0}'"
   ]
  },
  {
   "cell_type": "code",
   "execution_count": 72,
   "id": "552dee20",
   "metadata": {},
   "outputs": [
    {
     "data": {
      "text/plain": [
       "'Im batti years old,from 23'"
      ]
     },
     "execution_count": 72,
     "metadata": {},
     "output_type": "execute_result"
    }
   ],
   "source": [
    "detail.format(23,'batti')"
   ]
  },
  {
   "cell_type": "code",
   "execution_count": 73,
   "id": "a1ff45be",
   "metadata": {},
   "outputs": [
    {
     "name": "stdout",
     "output_type": "stream",
     "text": [
      "the fox brown quick\n"
     ]
    }
   ],
   "source": [
    "print('the {1} {2} {0}'.format('quick','fox','brown'))"
   ]
  },
  {
   "cell_type": "code",
   "execution_count": 74,
   "id": "c28187d7",
   "metadata": {},
   "outputs": [
    {
     "name": "stdout",
     "output_type": "stream",
     "text": [
      "the quick fox brown\n"
     ]
    }
   ],
   "source": [
    "print('the {q} {f} {b}'.format(q='quick',f='fox',b='brown'))"
   ]
  },
  {
   "cell_type": "code",
   "execution_count": 75,
   "id": "60b1f51a",
   "metadata": {},
   "outputs": [
    {
     "ename": "SyntaxError",
     "evalue": "EOL while scanning string literal (3783532095.py, line 2)",
     "output_type": "error",
     "traceback": [
      "\u001b[1;36m  Input \u001b[1;32mIn [75]\u001b[1;36m\u001b[0m\n\u001b[1;33m    print(f'Hello, his name is {name})\u001b[0m\n\u001b[1;37m                                      ^\u001b[0m\n\u001b[1;31mSyntaxError\u001b[0m\u001b[1;31m:\u001b[0m EOL while scanning string literal\n"
     ]
    }
   ],
   "source": [
    "name = ravi\n",
    "print(f'Hello, his name is {name})"
   ]
  },
  {
   "cell_type": "code",
   "execution_count": 76,
   "id": "a9c73566",
   "metadata": {},
   "outputs": [
    {
     "ename": "NameError",
     "evalue": "name 'ravi' is not defined",
     "output_type": "error",
     "traceback": [
      "\u001b[1;31m---------------------------------------------------------------------------\u001b[0m",
      "\u001b[1;31mNameError\u001b[0m                                 Traceback (most recent call last)",
      "Input \u001b[1;32mIn [76]\u001b[0m, in \u001b[0;36m<cell line: 1>\u001b[1;34m()\u001b[0m\n\u001b[1;32m----> 1\u001b[0m name \u001b[38;5;241m=\u001b[39m \u001b[43mravi\u001b[49m\n\u001b[0;32m      2\u001b[0m \u001b[38;5;28mprint\u001b[39m(\u001b[38;5;124mf\u001b[39m\u001b[38;5;124m'\u001b[39m\u001b[38;5;124mHello, his name is \u001b[39m\u001b[38;5;132;01m{\u001b[39;00mname\u001b[38;5;132;01m}\u001b[39;00m\u001b[38;5;124m'\u001b[39m)\n",
      "\u001b[1;31mNameError\u001b[0m: name 'ravi' is not defined"
     ]
    }
   ],
   "source": [
    "name = ravi\n",
    "print(f'Hello, his name is {name}')"
   ]
  },
  {
   "cell_type": "code",
   "execution_count": 77,
   "id": "225f89b0",
   "metadata": {},
   "outputs": [
    {
     "name": "stdout",
     "output_type": "stream",
     "text": [
      "Hello, his name is ravi\n"
     ]
    }
   ],
   "source": [
    "name = 'ravi'\n",
    "print(f'Hello, his name is {name}')"
   ]
  },
  {
   "cell_type": "code",
   "execution_count": 78,
   "id": "540f113a",
   "metadata": {},
   "outputs": [
    {
     "name": "stdout",
     "output_type": "stream",
     "text": [
      "your result is 20.200\n"
     ]
    }
   ],
   "source": [
    "result =101/5\n",
    "print('your result is {r:1.3f}'.format(r=result))"
   ]
  },
  {
   "cell_type": "code",
   "execution_count": 79,
   "id": "cba188bd",
   "metadata": {},
   "outputs": [
    {
     "name": "stdout",
     "output_type": "stream",
     "text": [
      "your result is 20.200\n"
     ]
    }
   ],
   "source": [
    "result =101/5\n",
    "print('your result is {:1.3f}'.format(result))"
   ]
  },
  {
   "cell_type": "code",
   "execution_count": 80,
   "id": "de0a941b",
   "metadata": {},
   "outputs": [],
   "source": [
    "new_string = \"I\\'m \\\"ravi\\\" \\nfrom batti\""
   ]
  },
  {
   "cell_type": "code",
   "execution_count": 81,
   "id": "f76caafc",
   "metadata": {},
   "outputs": [
    {
     "name": "stdout",
     "output_type": "stream",
     "text": [
      "I'm \"ravi\" \n",
      "from batti\n"
     ]
    }
   ],
   "source": [
    "print(new_string)"
   ]
  },
  {
   "cell_type": "code",
   "execution_count": 82,
   "id": "cf2fe500",
   "metadata": {},
   "outputs": [
    {
     "data": {
      "text/plain": [
       "list"
      ]
     },
     "execution_count": 82,
     "metadata": {},
     "output_type": "execute_result"
    }
   ],
   "source": [
    "new_list = ['p',1,2.5,[5.5,5,6],'do']\n",
    "type(new_list)"
   ]
  },
  {
   "cell_type": "code",
   "execution_count": 83,
   "id": "d8882405",
   "metadata": {},
   "outputs": [
    {
     "data": {
      "text/plain": [
       "[5.5, 5, 6]"
      ]
     },
     "execution_count": 83,
     "metadata": {},
     "output_type": "execute_result"
    }
   ],
   "source": [
    "new_list[3]"
   ]
  },
  {
   "cell_type": "code",
   "execution_count": 84,
   "id": "dc4ed690",
   "metadata": {},
   "outputs": [
    {
     "data": {
      "text/plain": [
       "'do'"
      ]
     },
     "execution_count": 84,
     "metadata": {},
     "output_type": "execute_result"
    }
   ],
   "source": [
    "new_list[4]"
   ]
  },
  {
   "cell_type": "code",
   "execution_count": 85,
   "id": "bf2cebdb",
   "metadata": {},
   "outputs": [
    {
     "data": {
      "text/plain": [
       "2.5"
      ]
     },
     "execution_count": 85,
     "metadata": {},
     "output_type": "execute_result"
    }
   ],
   "source": [
    "new_list[2]"
   ]
  },
  {
   "cell_type": "code",
   "execution_count": 86,
   "id": "dc0d7e9d",
   "metadata": {},
   "outputs": [
    {
     "name": "stdout",
     "output_type": "stream",
     "text": [
      "['one', 'two', 'three', 'four', 'five']\n"
     ]
    }
   ],
   "source": [
    "first_list = [\"one\",\"two\",\"three\"]\n",
    "second_list = [\"four\",\"five\"]\n",
    "final_list = first_list + second_list\n",
    "print(final_list)"
   ]
  },
  {
   "cell_type": "code",
   "execution_count": 87,
   "id": "88c8501e",
   "metadata": {},
   "outputs": [
    {
     "name": "stdout",
     "output_type": "stream",
     "text": [
      "['one', 'two', 'three', 'four', 'five']\n"
     ]
    }
   ],
   "source": [
    "new_list[1] ='six'\n",
    "print(final_list)"
   ]
  },
  {
   "cell_type": "code",
   "execution_count": 88,
   "id": "d412f0b8",
   "metadata": {},
   "outputs": [
    {
     "name": "stdout",
     "output_type": "stream",
     "text": [
      "['one', 'six', 'three', 'four', 'five']\n"
     ]
    }
   ],
   "source": [
    "final_list[1] ='six'\n",
    "print(final_list)"
   ]
  },
  {
   "cell_type": "code",
   "execution_count": 89,
   "id": "964bb1c8",
   "metadata": {},
   "outputs": [
    {
     "name": "stdout",
     "output_type": "stream",
     "text": [
      "['one', 'two', 'three', 'four', 'five']\n"
     ]
    }
   ],
   "source": [
    "final_list[1] ='two'\n",
    "print(final_list)"
   ]
  },
  {
   "cell_type": "code",
   "execution_count": 90,
   "id": "7c5a42b8",
   "metadata": {},
   "outputs": [
    {
     "name": "stdout",
     "output_type": "stream",
     "text": [
      "['one', 'two', 'three', 'four', 'five', 'six']\n"
     ]
    }
   ],
   "source": [
    "final_list.append('six')\n",
    "print(final_list)"
   ]
  },
  {
   "cell_type": "code",
   "execution_count": 91,
   "id": "16f8ab06",
   "metadata": {},
   "outputs": [
    {
     "data": {
      "text/plain": [
       "'six'"
      ]
     },
     "execution_count": 91,
     "metadata": {},
     "output_type": "execute_result"
    }
   ],
   "source": [
    "final_list.pop()"
   ]
  },
  {
   "cell_type": "code",
   "execution_count": 92,
   "id": "ee528ce1",
   "metadata": {},
   "outputs": [
    {
     "data": {
      "text/plain": [
       "['one', 'two', 'three', 'four', 'five']"
      ]
     },
     "execution_count": 92,
     "metadata": {},
     "output_type": "execute_result"
    }
   ],
   "source": [
    "final_list"
   ]
  },
  {
   "cell_type": "code",
   "execution_count": 93,
   "id": "9e1a588d",
   "metadata": {},
   "outputs": [
    {
     "data": {
      "text/plain": [
       "'three'"
      ]
     },
     "execution_count": 93,
     "metadata": {},
     "output_type": "execute_result"
    }
   ],
   "source": [
    "final_list.pop(2)"
   ]
  },
  {
   "cell_type": "code",
   "execution_count": 94,
   "id": "3e3ef623",
   "metadata": {},
   "outputs": [
    {
     "data": {
      "text/plain": [
       "['one', 'two', 'four', 'five']"
      ]
     },
     "execution_count": 94,
     "metadata": {},
     "output_type": "execute_result"
    }
   ],
   "source": [
    "final_list"
   ]
  },
  {
   "cell_type": "code",
   "execution_count": 95,
   "id": "511413d6",
   "metadata": {},
   "outputs": [],
   "source": [
    "num_list = [2,5,8,0]"
   ]
  },
  {
   "cell_type": "code",
   "execution_count": 96,
   "id": "3347bcc3",
   "metadata": {},
   "outputs": [],
   "source": [
    "character_list = ['h','t','t','e']"
   ]
  },
  {
   "cell_type": "code",
   "execution_count": 97,
   "id": "8bb66809",
   "metadata": {},
   "outputs": [
    {
     "name": "stdout",
     "output_type": "stream",
     "text": [
      "[0, 2, 5, 8]\n"
     ]
    }
   ],
   "source": [
    "num_list.sort()\n",
    "print(num_list)"
   ]
  },
  {
   "cell_type": "code",
   "execution_count": 98,
   "id": "69045294",
   "metadata": {},
   "outputs": [],
   "source": [
    "num_list.sort(reverse=True)"
   ]
  },
  {
   "cell_type": "code",
   "execution_count": 99,
   "id": "49b2cc9d",
   "metadata": {},
   "outputs": [
    {
     "name": "stdout",
     "output_type": "stream",
     "text": [
      "[8, 5, 2, 0]\n"
     ]
    }
   ],
   "source": [
    "print(num_list)"
   ]
  },
  {
   "cell_type": "code",
   "execution_count": 100,
   "id": "69f36cba",
   "metadata": {},
   "outputs": [],
   "source": [
    "character_list.sort()"
   ]
  },
  {
   "cell_type": "code",
   "execution_count": 101,
   "id": "4d3d79d8",
   "metadata": {},
   "outputs": [
    {
     "name": "stdout",
     "output_type": "stream",
     "text": [
      "['e', 'h', 't', 't']\n",
      "['t', 't', 'h', 'e']\n"
     ]
    }
   ],
   "source": [
    "print(character_list)\n",
    "character_list.sort(reverse=True)\n",
    "print(character_list)"
   ]
  },
  {
   "cell_type": "code",
   "execution_count": 102,
   "id": "1af157e2",
   "metadata": {},
   "outputs": [
    {
     "ename": "NameError",
     "evalue": "name 'chracter_list' is not defined",
     "output_type": "error",
     "traceback": [
      "\u001b[1;31m---------------------------------------------------------------------------\u001b[0m",
      "\u001b[1;31mNameError\u001b[0m                                 Traceback (most recent call last)",
      "Input \u001b[1;32mIn [102]\u001b[0m, in \u001b[0;36m<cell line: 1>\u001b[1;34m()\u001b[0m\n\u001b[1;32m----> 1\u001b[0m \u001b[43mchracter_list\u001b[49m\u001b[38;5;241m.\u001b[39mreverse()\n",
      "\u001b[1;31mNameError\u001b[0m: name 'chracter_list' is not defined"
     ]
    }
   ],
   "source": [
    "chracter_list.reverse()"
   ]
  },
  {
   "cell_type": "code",
   "execution_count": 103,
   "id": "1c012d6a",
   "metadata": {},
   "outputs": [],
   "source": [
    "character_list.reverse()"
   ]
  },
  {
   "cell_type": "code",
   "execution_count": 104,
   "id": "d18e1442",
   "metadata": {},
   "outputs": [
    {
     "name": "stdout",
     "output_type": "stream",
     "text": [
      "None\n"
     ]
    }
   ],
   "source": [
    "print(character_list.reverse())"
   ]
  },
  {
   "cell_type": "code",
   "execution_count": 105,
   "id": "cf55d9b1",
   "metadata": {},
   "outputs": [],
   "source": [
    "character_list.reverse()"
   ]
  },
  {
   "cell_type": "code",
   "execution_count": 106,
   "id": "1cf242dd",
   "metadata": {},
   "outputs": [
    {
     "name": "stdout",
     "output_type": "stream",
     "text": [
      "['e', 'h', 't', 't']\n"
     ]
    }
   ],
   "source": [
    "print(character_list)"
   ]
  },
  {
   "cell_type": "code",
   "execution_count": 107,
   "id": "dc5c0258",
   "metadata": {},
   "outputs": [
    {
     "data": {
      "text/plain": [
       "['h']"
      ]
     },
     "execution_count": 107,
     "metadata": {},
     "output_type": "execute_result"
    }
   ],
   "source": [
    "character_list[1:3:2]"
   ]
  },
  {
   "cell_type": "code",
   "execution_count": 1,
   "id": "94c6e2f1",
   "metadata": {},
   "outputs": [],
   "source": [
    "new_dictionary =  {'key_1':'value_1','key_2':'value_2'}"
   ]
  },
  {
   "cell_type": "code",
   "execution_count": 2,
   "id": "ea3fccc9",
   "metadata": {},
   "outputs": [
    {
     "data": {
      "text/plain": [
       "dict"
      ]
     },
     "execution_count": 2,
     "metadata": {},
     "output_type": "execute_result"
    }
   ],
   "source": [
    "type(new_dictionary)"
   ]
  },
  {
   "cell_type": "code",
   "execution_count": 3,
   "id": "26734739",
   "metadata": {},
   "outputs": [
    {
     "data": {
      "text/plain": [
       "'value_1'"
      ]
     },
     "execution_count": 3,
     "metadata": {},
     "output_type": "execute_result"
    }
   ],
   "source": [
    "new_dictionary['key_1']"
   ]
  },
  {
   "cell_type": "code",
   "execution_count": 4,
   "id": "6f6fc98c",
   "metadata": {},
   "outputs": [
    {
     "data": {
      "text/plain": [
       "'value_2'"
      ]
     },
     "execution_count": 4,
     "metadata": {},
     "output_type": "execute_result"
    }
   ],
   "source": [
    "new_dictionary['key_2']"
   ]
  },
  {
   "cell_type": "code",
   "execution_count": 5,
   "id": "bfcf0b2c",
   "metadata": {},
   "outputs": [
    {
     "ename": "NameError",
     "evalue": "name 'p' is not defined",
     "output_type": "error",
     "traceback": [
      "\u001b[1;31m---------------------------------------------------------------------------\u001b[0m",
      "\u001b[1;31mNameError\u001b[0m                                 Traceback (most recent call last)",
      "Input \u001b[1;32mIn [5]\u001b[0m, in \u001b[0;36m<cell line: 1>\u001b[1;34m()\u001b[0m\n\u001b[1;32m----> 1\u001b[0m another_dict \u001b[38;5;241m=\u001b[39m {\u001b[38;5;124m'\u001b[39m\u001b[38;5;124mk1\u001b[39m\u001b[38;5;124m'\u001b[39m:\u001b[43mp\u001b[49m,\u001b[38;5;124m'\u001b[39m\u001b[38;5;124mk2\u001b[39m\u001b[38;5;124m'\u001b[39m:\u001b[38;5;241m2\u001b[39m,\u001b[38;5;124m'\u001b[39m\u001b[38;5;124mk3\u001b[39m\u001b[38;5;124m'\u001b[39m:{\u001b[38;5;124m'\u001b[39m\u001b[38;5;124mnum_1\u001b[39m\u001b[38;5;124m'\u001b[39m:\u001b[38;5;241m2\u001b[39m,\u001b[38;5;124m'\u001b[39m\u001b[38;5;124mnum_2\u001b[39m\u001b[38;5;124m'\u001b[39m:\u001b[38;5;241m3\u001b[39m}, \u001b[38;5;124m'\u001b[39m\u001b[38;5;124mk4\u001b[39m\u001b[38;5;124m'\u001b[39m:[\u001b[38;5;241m1\u001b[39m,\u001b[38;5;241m3\u001b[39m,\u001b[38;5;241m5\u001b[39m,\u001b[38;5;241m2\u001b[39m]}\n",
      "\u001b[1;31mNameError\u001b[0m: name 'p' is not defined"
     ]
    }
   ],
   "source": [
    "another_dict = {'k1':p,'k2':2,'k3':{'num_1':2,'num_2':3}, 'k4':[1,3,5,2]}"
   ]
  },
  {
   "cell_type": "code",
   "execution_count": 6,
   "id": "3048917a",
   "metadata": {},
   "outputs": [],
   "source": [
    "another_dict = {'k1':'p','k2':2,'k3':{'num_1':2,'num_2':3}, 'k4':[1,3,5,2]}"
   ]
  },
  {
   "cell_type": "code",
   "execution_count": 7,
   "id": "e914849f",
   "metadata": {},
   "outputs": [
    {
     "data": {
      "text/plain": [
       "'p'"
      ]
     },
     "execution_count": 7,
     "metadata": {},
     "output_type": "execute_result"
    }
   ],
   "source": [
    "another_dict['k1']"
   ]
  },
  {
   "cell_type": "code",
   "execution_count": 8,
   "id": "ef2e533d",
   "metadata": {},
   "outputs": [
    {
     "data": {
      "text/plain": [
       "2"
      ]
     },
     "execution_count": 8,
     "metadata": {},
     "output_type": "execute_result"
    }
   ],
   "source": [
    "another_dict['k2']"
   ]
  },
  {
   "cell_type": "code",
   "execution_count": 9,
   "id": "32091abd",
   "metadata": {},
   "outputs": [
    {
     "data": {
      "text/plain": [
       "2"
      ]
     },
     "execution_count": 9,
     "metadata": {},
     "output_type": "execute_result"
    }
   ],
   "source": [
    "another_dict['k3']['num_1']"
   ]
  },
  {
   "cell_type": "code",
   "execution_count": 10,
   "id": "ecf1c955",
   "metadata": {},
   "outputs": [
    {
     "ename": "TypeError",
     "evalue": "list indices must be integers or slices, not str",
     "output_type": "error",
     "traceback": [
      "\u001b[1;31m---------------------------------------------------------------------------\u001b[0m",
      "\u001b[1;31mTypeError\u001b[0m                                 Traceback (most recent call last)",
      "Input \u001b[1;32mIn [10]\u001b[0m, in \u001b[0;36m<cell line: 1>\u001b[1;34m()\u001b[0m\n\u001b[1;32m----> 1\u001b[0m \u001b[43manother_dict\u001b[49m\u001b[43m[\u001b[49m\u001b[38;5;124;43m'\u001b[39;49m\u001b[38;5;124;43mk4\u001b[39;49m\u001b[38;5;124;43m'\u001b[39;49m\u001b[43m]\u001b[49m\u001b[43m[\u001b[49m\u001b[38;5;124;43m'\u001b[39;49m\u001b[38;5;124;43m2\u001b[39;49m\u001b[38;5;124;43m'\u001b[39;49m\u001b[43m]\u001b[49m\n",
      "\u001b[1;31mTypeError\u001b[0m: list indices must be integers or slices, not str"
     ]
    }
   ],
   "source": [
    "another_dict['k4']['2']"
   ]
  },
  {
   "cell_type": "code",
   "execution_count": 11,
   "id": "781bbd79",
   "metadata": {},
   "outputs": [
    {
     "ename": "IndexError",
     "evalue": "string index out of range",
     "output_type": "error",
     "traceback": [
      "\u001b[1;31m---------------------------------------------------------------------------\u001b[0m",
      "\u001b[1;31mIndexError\u001b[0m                                Traceback (most recent call last)",
      "Input \u001b[1;32mIn [11]\u001b[0m, in \u001b[0;36m<cell line: 1>\u001b[1;34m()\u001b[0m\n\u001b[1;32m----> 1\u001b[0m \u001b[43manother_dict\u001b[49m\u001b[43m[\u001b[49m\u001b[38;5;124;43m'\u001b[39;49m\u001b[38;5;124;43mk1\u001b[39;49m\u001b[38;5;124;43m'\u001b[39;49m\u001b[43m]\u001b[49m\u001b[43m[\u001b[49m\u001b[38;5;241;43m2\u001b[39;49m\u001b[43m]\u001b[49m\n",
      "\u001b[1;31mIndexError\u001b[0m: string index out of range"
     ]
    }
   ],
   "source": [
    "another_dict['k1'][2]"
   ]
  },
  {
   "cell_type": "code",
   "execution_count": 12,
   "id": "3caa24b6",
   "metadata": {},
   "outputs": [
    {
     "data": {
      "text/plain": [
       "5"
      ]
     },
     "execution_count": 12,
     "metadata": {},
     "output_type": "execute_result"
    }
   ],
   "source": [
    "another_dict['k4'][2]"
   ]
  },
  {
   "cell_type": "code",
   "execution_count": 13,
   "id": "d3b5808e",
   "metadata": {},
   "outputs": [],
   "source": [
    "another_dict['k5'] = True"
   ]
  },
  {
   "cell_type": "code",
   "execution_count": 14,
   "id": "22f79c56",
   "metadata": {},
   "outputs": [
    {
     "data": {
      "text/plain": [
       "{'k1': 'p',\n",
       " 'k2': 2,\n",
       " 'k3': {'num_1': 2, 'num_2': 3},\n",
       " 'k4': [1, 3, 5, 2],\n",
       " 'k5': True}"
      ]
     },
     "execution_count": 14,
     "metadata": {},
     "output_type": "execute_result"
    }
   ],
   "source": [
    "another_dict"
   ]
  },
  {
   "cell_type": "code",
   "execution_count": 15,
   "id": "c82f3ef0",
   "metadata": {},
   "outputs": [],
   "source": [
    "another_dict['k5'] = False"
   ]
  },
  {
   "cell_type": "code",
   "execution_count": 16,
   "id": "7e18b8cd",
   "metadata": {},
   "outputs": [
    {
     "data": {
      "text/plain": [
       "{'k1': 'p',\n",
       " 'k2': 2,\n",
       " 'k3': {'num_1': 2, 'num_2': 3},\n",
       " 'k4': [1, 3, 5, 2],\n",
       " 'k5': False}"
      ]
     },
     "execution_count": 16,
     "metadata": {},
     "output_type": "execute_result"
    }
   ],
   "source": [
    "another_dict"
   ]
  },
  {
   "cell_type": "code",
   "execution_count": 17,
   "id": "498f85af",
   "metadata": {},
   "outputs": [
    {
     "ename": "TypeError",
     "evalue": "'builtin_function_or_method' object is not subscriptable",
     "output_type": "error",
     "traceback": [
      "\u001b[1;31m---------------------------------------------------------------------------\u001b[0m",
      "\u001b[1;31mTypeError\u001b[0m                                 Traceback (most recent call last)",
      "Input \u001b[1;32mIn [17]\u001b[0m, in \u001b[0;36m<cell line: 1>\u001b[1;34m()\u001b[0m\n\u001b[1;32m----> 1\u001b[0m \u001b[43manother_dict\u001b[49m\u001b[38;5;241;43m.\u001b[39;49m\u001b[43mpop\u001b[49m\u001b[43m[\u001b[49m\u001b[38;5;124;43m'\u001b[39;49m\u001b[38;5;124;43mk5\u001b[39;49m\u001b[38;5;124;43m'\u001b[39;49m\u001b[43m]\u001b[49m\n",
      "\u001b[1;31mTypeError\u001b[0m: 'builtin_function_or_method' object is not subscriptable"
     ]
    }
   ],
   "source": [
    "another_dict.pop['k5']"
   ]
  },
  {
   "cell_type": "code",
   "execution_count": 18,
   "id": "d5bf1ec8",
   "metadata": {},
   "outputs": [
    {
     "data": {
      "text/plain": [
       "False"
      ]
     },
     "execution_count": 18,
     "metadata": {},
     "output_type": "execute_result"
    }
   ],
   "source": [
    "another_dict.pop('k5')"
   ]
  },
  {
   "cell_type": "code",
   "execution_count": 19,
   "id": "2956cec5",
   "metadata": {},
   "outputs": [
    {
     "data": {
      "text/plain": [
       "{'k1': 'p', 'k2': 2, 'k3': {'num_1': 2, 'num_2': 3}, 'k4': [1, 3, 5, 2]}"
      ]
     },
     "execution_count": 19,
     "metadata": {},
     "output_type": "execute_result"
    }
   ],
   "source": [
    "another_dict"
   ]
  },
  {
   "cell_type": "code",
   "execution_count": 20,
   "id": "e5374076",
   "metadata": {},
   "outputs": [
    {
     "data": {
      "text/plain": [
       "2"
      ]
     },
     "execution_count": 20,
     "metadata": {},
     "output_type": "execute_result"
    }
   ],
   "source": [
    "another_dict.pop('k2')"
   ]
  },
  {
   "cell_type": "code",
   "execution_count": 21,
   "id": "badb321f",
   "metadata": {},
   "outputs": [
    {
     "data": {
      "text/plain": [
       "dict_keys(['k1', 'k3', 'k4'])"
      ]
     },
     "execution_count": 21,
     "metadata": {},
     "output_type": "execute_result"
    }
   ],
   "source": [
    "another_dict.keys()"
   ]
  },
  {
   "cell_type": "code",
   "execution_count": 22,
   "id": "9d5392c3",
   "metadata": {},
   "outputs": [
    {
     "data": {
      "text/plain": [
       "dict_keys"
      ]
     },
     "execution_count": 22,
     "metadata": {},
     "output_type": "execute_result"
    }
   ],
   "source": [
    "type(another_dict.keys())"
   ]
  },
  {
   "cell_type": "code",
   "execution_count": 23,
   "id": "f825eadd",
   "metadata": {},
   "outputs": [
    {
     "data": {
      "text/plain": [
       "dict_values(['p', {'num_1': 2, 'num_2': 3}, [1, 3, 5, 2]])"
      ]
     },
     "execution_count": 23,
     "metadata": {},
     "output_type": "execute_result"
    }
   ],
   "source": [
    "another_dict.values()"
   ]
  },
  {
   "cell_type": "code",
   "execution_count": 24,
   "id": "692ab81f",
   "metadata": {},
   "outputs": [
    {
     "data": {
      "text/plain": [
       "dict_items([('k1', 'p'), ('k3', {'num_1': 2, 'num_2': 3}), ('k4', [1, 3, 5, 2])])"
      ]
     },
     "execution_count": 24,
     "metadata": {},
     "output_type": "execute_result"
    }
   ],
   "source": [
    "another_dict.items()"
   ]
  },
  {
   "cell_type": "code",
   "execution_count": 25,
   "id": "53cf315b",
   "metadata": {},
   "outputs": [
    {
     "ename": "TypeError",
     "evalue": "'builtin_function_or_method' object is not subscriptable",
     "output_type": "error",
     "traceback": [
      "\u001b[1;31m---------------------------------------------------------------------------\u001b[0m",
      "\u001b[1;31mTypeError\u001b[0m                                 Traceback (most recent call last)",
      "Input \u001b[1;32mIn [25]\u001b[0m, in \u001b[0;36m<cell line: 1>\u001b[1;34m()\u001b[0m\n\u001b[1;32m----> 1\u001b[0m \u001b[43manother_dict\u001b[49m\u001b[38;5;241;43m.\u001b[39;49m\u001b[43mget\u001b[49m\u001b[43m[\u001b[49m\u001b[38;5;124;43m'\u001b[39;49m\u001b[38;5;124;43mk2\u001b[39;49m\u001b[38;5;124;43m'\u001b[39;49m\u001b[43m]\u001b[49m\n",
      "\u001b[1;31mTypeError\u001b[0m: 'builtin_function_or_method' object is not subscriptable"
     ]
    }
   ],
   "source": [
    "another_dict.get['k2']"
   ]
  },
  {
   "cell_type": "code",
   "execution_count": 26,
   "id": "f532aac6",
   "metadata": {},
   "outputs": [],
   "source": [
    "another_dict.get('k2')"
   ]
  },
  {
   "cell_type": "code",
   "execution_count": 27,
   "id": "70323356",
   "metadata": {},
   "outputs": [
    {
     "data": {
      "text/plain": [
       "{'k1': 'p', 'k3': {'num_1': 2, 'num_2': 3}, 'k4': [1, 3, 5, 2]}"
      ]
     },
     "execution_count": 27,
     "metadata": {},
     "output_type": "execute_result"
    }
   ],
   "source": [
    "another_dict"
   ]
  },
  {
   "cell_type": "code",
   "execution_count": 28,
   "id": "3477015d",
   "metadata": {},
   "outputs": [
    {
     "data": {
      "text/plain": [
       "dict_keys(['k1', 'k3', 'k4'])"
      ]
     },
     "execution_count": 28,
     "metadata": {},
     "output_type": "execute_result"
    }
   ],
   "source": [
    "another_dict.keys()"
   ]
  },
  {
   "cell_type": "code",
   "execution_count": null,
   "id": "83bcb31e",
   "metadata": {},
   "outputs": [
    {
     "ename": "SyntaxError",
     "evalue": "invalid syntax (3346258818.py, line 1)",
     "output_type": "error",
     "traceback": [
      "\u001b[1;36m  Input \u001b[1;32mIn [29]\u001b[1;36m\u001b[0m\n\u001b[1;33m    new_tuple= (1,'p' 3,[5,'l'])\u001b[0m\n\u001b[1;37m                      ^\u001b[0m\n\u001b[1;31mSyntaxError\u001b[0m\u001b[1;31m:\u001b[0m invalid syntax\n"
     ]
    }
   ],
   "source": [
    "new_tuple= (1,'p' 3,[5,'l'])"
   ]
  },
  {
   "cell_type": "code",
   "execution_count": 30,
   "id": "9990796d",
   "metadata": {},
   "outputs": [],
   "source": [
    "new_tuple= (1,'p',3,[5,'l'])"
   ]
  },
  {
   "cell_type": "code",
   "execution_count": 31,
   "id": "52d29ff8",
   "metadata": {},
   "outputs": [
    {
     "data": {
      "text/plain": [
       "tuple"
      ]
     },
     "execution_count": 31,
     "metadata": {},
     "output_type": "execute_result"
    }
   ],
   "source": [
    "type(new_tuple)"
   ]
  },
  {
   "cell_type": "code",
   "execution_count": 32,
   "id": "7c85e0df",
   "metadata": {},
   "outputs": [
    {
     "data": {
      "text/plain": [
       "1"
      ]
     },
     "execution_count": 32,
     "metadata": {},
     "output_type": "execute_result"
    }
   ],
   "source": [
    "new_tuple[0]"
   ]
  },
  {
   "cell_type": "code",
   "execution_count": 33,
   "id": "b38abb71",
   "metadata": {},
   "outputs": [
    {
     "data": {
      "text/plain": [
       "'l'"
      ]
     },
     "execution_count": 33,
     "metadata": {},
     "output_type": "execute_result"
    }
   ],
   "source": [
    "new_tuple[3][1]"
   ]
  },
  {
   "cell_type": "code",
   "execution_count": 34,
   "id": "509aca39",
   "metadata": {},
   "outputs": [
    {
     "data": {
      "text/plain": [
       "0"
      ]
     },
     "execution_count": 34,
     "metadata": {},
     "output_type": "execute_result"
    }
   ],
   "source": [
    "new_tuple.index(1)"
   ]
  },
  {
   "cell_type": "code",
   "execution_count": 35,
   "id": "198ab129",
   "metadata": {},
   "outputs": [
    {
     "data": {
      "text/plain": [
       "1"
      ]
     },
     "execution_count": 35,
     "metadata": {},
     "output_type": "execute_result"
    }
   ],
   "source": [
    "new_tuple.index('p')new_tuple.index('p')"
   ]
  },
  {
   "cell_type": "code",
   "execution_count": 36,
   "id": "47303ed6",
   "metadata": {},
   "outputs": [
    {
     "name": "stdout",
     "output_type": "stream",
     "text": [
      "1\n"
     ]
    }
   ],
   "source": [
    "next_tuple = ('a','b','c','b')\n",
    "print(next_tuple.index('b'))"
   ]
  },
  {
   "cell_type": "code",
   "execution_count": 37,
   "id": "711bd832",
   "metadata": {},
   "outputs": [
    {
     "data": {
      "text/plain": [
       "'a'"
      ]
     },
     "execution_count": 37,
     "metadata": {},
     "output_type": "execute_result"
    }
   ],
   "source": [
    "next_tuple[-4]"
   ]
  },
  {
   "cell_type": "code",
   "execution_count": 38,
   "id": "eed0c4e5",
   "metadata": {},
   "outputs": [
    {
     "data": {
      "text/plain": [
       "2"
      ]
     },
     "execution_count": 38,
     "metadata": {},
     "output_type": "execute_result"
    }
   ],
   "source": [
    "next_tuple.count('b')"
   ]
  },
  {
   "cell_type": "code",
   "execution_count": 39,
   "id": "e0ef30ee",
   "metadata": {},
   "outputs": [
    {
     "data": {
      "text/plain": [
       "'c'"
      ]
     },
     "execution_count": 39,
     "metadata": {},
     "output_type": "execute_result"
    }
   ],
   "source": [
    "next_tuple[2]"
   ]
  },
  {
   "cell_type": "code",
   "execution_count": 40,
   "id": "09f968b0",
   "metadata": {},
   "outputs": [
    {
     "ename": "TypeError",
     "evalue": "'tuple' object does not support item assignment",
     "output_type": "error",
     "traceback": [
      "\u001b[1;31m---------------------------------------------------------------------------\u001b[0m",
      "\u001b[1;31mTypeError\u001b[0m                                 Traceback (most recent call last)",
      "Input \u001b[1;32mIn [40]\u001b[0m, in \u001b[0;36m<cell line: 1>\u001b[1;34m()\u001b[0m\n\u001b[1;32m----> 1\u001b[0m next_tuple[\u001b[38;5;241m2\u001b[39m] \u001b[38;5;241m=\u001b[39m \u001b[38;5;124m'\u001b[39m\u001b[38;5;124mk\u001b[39m\u001b[38;5;124m'\u001b[39m\n",
      "\u001b[1;31mTypeError\u001b[0m: 'tuple' object does not support item assignment"
     ]
    }
   ],
   "source": [
    "next_tuple[2] = 'k'"
   ]
  },
  {
   "cell_type": "code",
   "execution_count": 41,
   "id": "d508b35a",
   "metadata": {},
   "outputs": [],
   "source": [
    "new_set ={1,'n',True}"
   ]
  },
  {
   "cell_type": "code",
   "execution_count": 42,
   "id": "25dc2dda",
   "metadata": {},
   "outputs": [
    {
     "data": {
      "text/plain": [
       "set"
      ]
     },
     "execution_count": 42,
     "metadata": {},
     "output_type": "execute_result"
    }
   ],
   "source": [
    "type(new_set)"
   ]
  },
  {
   "cell_type": "code",
   "execution_count": 43,
   "id": "511c66c0",
   "metadata": {},
   "outputs": [
    {
     "data": {
      "text/plain": [
       "{1, 'n'}"
      ]
     },
     "execution_count": 43,
     "metadata": {},
     "output_type": "execute_result"
    }
   ],
   "source": [
    "new_set"
   ]
  },
  {
   "cell_type": "code",
   "execution_count": 44,
   "id": "b39f98de",
   "metadata": {},
   "outputs": [],
   "source": [
    "set1 ={\"abc\",34,True,40,\"male\"}"
   ]
  },
  {
   "cell_type": "code",
   "execution_count": 45,
   "id": "c85cb2bb",
   "metadata": {},
   "outputs": [
    {
     "data": {
      "text/plain": [
       "{34, 40, True, 'abc', 'male'}"
      ]
     },
     "execution_count": 45,
     "metadata": {},
     "output_type": "execute_result"
    }
   ],
   "source": [
    "set1"
   ]
  },
  {
   "cell_type": "code",
   "execution_count": 46,
   "id": "ca93cfb2",
   "metadata": {},
   "outputs": [
    {
     "data": {
      "text/plain": [
       "True"
      ]
     },
     "execution_count": 46,
     "metadata": {},
     "output_type": "execute_result"
    }
   ],
   "source": [
    "set1.pop()"
   ]
  },
  {
   "cell_type": "markdown",
   "id": "52e1c6a3",
   "metadata": {},
   "source": [
    "syntax:-\n",
    "    if some_condition :\n",
    "        block_of_code\n"
   ]
  },
  {
   "cell_type": "code",
   "execution_count": 47,
   "id": "4314e438",
   "metadata": {},
   "outputs": [
    {
     "name": "stdout",
     "output_type": "stream",
     "text": [
      "2 is less than 5\n",
      "2 is less than 5\n"
     ]
    }
   ],
   "source": [
    "if 2 <5:\n",
    "    print('2 is less than 5')\n",
    "    print('2 is less than 5')"
   ]
  },
  {
   "cell_type": "code",
   "execution_count": 48,
   "id": "3be062b3",
   "metadata": {},
   "outputs": [
    {
     "ename": "NameError",
     "evalue": "name 'num' is not defined",
     "output_type": "error",
     "traceback": [
      "\u001b[1;31m---------------------------------------------------------------------------\u001b[0m",
      "\u001b[1;31mNameError\u001b[0m                                 Traceback (most recent call last)",
      "Input \u001b[1;32mIn [48]\u001b[0m, in \u001b[0;36m<cell line: 4>\u001b[1;34m()\u001b[0m\n\u001b[0;32m      4\u001b[0m \u001b[38;5;28;01mif\u001b[39;00m (num1\u001b[38;5;241m>\u001b[39mnum2):\n\u001b[0;32m      5\u001b[0m     \u001b[38;5;28mprint\u001b[39m(\u001b[38;5;124m'\u001b[39m\u001b[38;5;124mnum1 is greater than num2\u001b[39m\u001b[38;5;124m'\u001b[39m)\n\u001b[1;32m----> 6\u001b[0m \u001b[38;5;28;01melif\u001b[39;00m(num1 \u001b[38;5;241m<\u001b[39m\u001b[43mnum\u001b[49m):\n\u001b[0;32m      7\u001b[0m     \u001b[38;5;28mprint\u001b[39m(\u001b[38;5;124m'\u001b[39m\u001b[38;5;124mnum1 is less than num2\u001b[39m\u001b[38;5;124m'\u001b[39m)\n",
      "\u001b[1;31mNameError\u001b[0m: name 'num' is not defined"
     ]
    }
   ],
   "source": [
    "num1 =2\n",
    "num2 =3\n",
    "\n",
    "if (num1>num2):\n",
    "    print('num1 is greater than num2')\n",
    "elif(num1 <num):\n",
    "    print('num1 is less than num2')"
   ]
  },
  {
   "cell_type": "code",
   "execution_count": 49,
   "id": "a920f88a",
   "metadata": {},
   "outputs": [
    {
     "name": "stdout",
     "output_type": "stream",
     "text": [
      "num1 is less than num2\n"
     ]
    }
   ],
   "source": [
    "num1 =2\n",
    "num2 =3\n",
    "\n",
    "if (num1>num2):\n",
    "    print('num1 is greater than num2')\n",
    "elif(num1 <num2):\n",
    "    print('num1 is less than num2')"
   ]
  },
  {
   "cell_type": "code",
   "execution_count": 50,
   "id": "84c893d6",
   "metadata": {},
   "outputs": [
    {
     "name": "stdout",
     "output_type": "stream",
     "text": [
      "fishes are safe\n"
     ]
    }
   ],
   "source": [
    "loc ='Fish shop'\n",
    "if loc == 'Auto shop':\n",
    "    print('cars are safe')\n",
    "elif loc == 'Bank':\n",
    "    print('Money is safe')\n",
    "elif loc == 'Fish shop':\n",
    "    print('fishes are safe')\n",
    "else:\n",
    "    print('i dont know ')\n"
   ]
  },
  {
   "cell_type": "code",
   "execution_count": 51,
   "id": "cae944e2",
   "metadata": {},
   "outputs": [
    {
     "name": "stdout",
     "output_type": "stream",
     "text": [
      "more than ten\n",
      "also more than 20\n"
     ]
    }
   ],
   "source": [
    "num_1 = 41\n",
    "if num_1>10:\n",
    "    print('more than ten')\n",
    "    if (num_1 >20):\n",
    "        print('also more than 20')\n",
    "    else:\n",
    "        print('not more than 20')"
   ]
  },
  {
   "cell_type": "code",
   "execution_count": 52,
   "id": "881311f3",
   "metadata": {},
   "outputs": [
    {
     "ename": "NameError",
     "evalue": "name 'x' is not defined",
     "output_type": "error",
     "traceback": [
      "\u001b[1;31m---------------------------------------------------------------------------\u001b[0m",
      "\u001b[1;31mNameError\u001b[0m                                 Traceback (most recent call last)",
      "Input \u001b[1;32mIn [52]\u001b[0m, in \u001b[0;36m<cell line: 2>\u001b[1;34m()\u001b[0m\n\u001b[0;32m      1\u001b[0m age \u001b[38;5;241m=\u001b[39m \u001b[38;5;241m45\u001b[39m\n\u001b[1;32m----> 2\u001b[0m \u001b[38;5;28;01mif\u001b[39;00m \u001b[43mx\u001b[49m\u001b[38;5;241m>\u001b[39m\u001b[38;5;241m18\u001b[39m:\n\u001b[0;32m      3\u001b[0m     \u001b[38;5;28mprint\u001b[39m(\u001b[38;5;124m'\u001b[39m\u001b[38;5;124mchildren\u001b[39m\u001b[38;5;124m'\u001b[39m)\n\u001b[0;32m      4\u001b[0m     \u001b[38;5;28;01mif\u001b[39;00m (\u001b[38;5;241m18\u001b[39m\u001b[38;5;241m<\u001b[39mage\u001b[38;5;241m<\u001b[39m\u001b[38;5;241m50\u001b[39m):\n",
      "\u001b[1;31mNameError\u001b[0m: name 'x' is not defined"
     ]
    }
   ],
   "source": [
    "age = 45\n",
    "if x>18:\n",
    "    print('children')\n",
    "    if (18<age<50):\n",
    "        print('aduld')\n",
    "    elif(age>50):\n",
    "        print('senioraduld')"
   ]
  },
  {
   "cell_type": "code",
   "execution_count": 53,
   "id": "8d40636f",
   "metadata": {},
   "outputs": [
    {
     "name": "stdout",
     "output_type": "stream",
     "text": [
      "children\n",
      "aduld\n"
     ]
    }
   ],
   "source": [
    "age = 45\n",
    "if age>18:\n",
    "    print('children')\n",
    "    if (18<age<50):\n",
    "        print('aduld')\n",
    "    elif(age>50):\n",
    "        print('senioraduld')"
   ]
  },
  {
   "cell_type": "code",
   "execution_count": 54,
   "id": "bccd8b72",
   "metadata": {},
   "outputs": [],
   "source": [
    "age = 45\n",
    "if age>18:\n",
    "    print('children')\n",
    "    if (18<age<50):\n",
    "        print('aduld')\n",
    "    elif(age>50):\n",
    "        print('senioraduld')"
   ]
  },
  {
   "cell_type": "code",
   "execution_count": null,
   "id": "611c4333",
   "metadata": {},
   "outputs": [],
   "source": []
  },
  {
   "cell_type": "code",
   "execution_count": 55,
   "id": "50c18591",
   "metadata": {},
   "outputs": [],
   "source": [
    "age = 45\n",
    "if age<18:\n",
    "    print('children')\n",
    "    if (18<age<50):\n",
    "        print('adult')\n",
    "    elif(age>50):\n",
    "        print('senioradult')"
   ]
  },
  {
   "cell_type": "code",
   "execution_count": 56,
   "id": "463537bc",
   "metadata": {},
   "outputs": [
    {
     "ename": "NameError",
     "evalue": "name 'x' is not defined",
     "output_type": "error",
     "traceback": [
      "\u001b[1;31m---------------------------------------------------------------------------\u001b[0m",
      "\u001b[1;31mNameError\u001b[0m                                 Traceback (most recent call last)",
      "Input \u001b[1;32mIn [56]\u001b[0m, in \u001b[0;36m<cell line: 2>\u001b[1;34m()\u001b[0m\n\u001b[0;32m      1\u001b[0m age \u001b[38;5;241m=\u001b[39m \u001b[38;5;241m45\u001b[39m\n\u001b[1;32m----> 2\u001b[0m \u001b[38;5;28;01mif\u001b[39;00m \u001b[43mx\u001b[49m\u001b[38;5;241m>\u001b[39m\u001b[38;5;241m18\u001b[39m:\n\u001b[0;32m      3\u001b[0m     \u001b[38;5;28mprint\u001b[39m(\u001b[38;5;124m'\u001b[39m\u001b[38;5;124mchildren\u001b[39m\u001b[38;5;124m'\u001b[39m)\n\u001b[0;32m      4\u001b[0m     \u001b[38;5;28;01mif\u001b[39;00m (\u001b[38;5;241m18\u001b[39m\u001b[38;5;241m<\u001b[39mage\u001b[38;5;241m<\u001b[39m\u001b[38;5;241m50\u001b[39m):\n",
      "\u001b[1;31mNameError\u001b[0m: name 'x' is not defined"
     ]
    }
   ],
   "source": [
    "age = 45\n",
    "if x>18:\n",
    "    print('children')\n",
    "    if (18<age<50):\n",
    "        print('adult')\n",
    "    if(age>50):\n",
    "        print('senioradult')"
   ]
  },
  {
   "cell_type": "code",
   "execution_count": 57,
   "id": "65a722f9",
   "metadata": {},
   "outputs": [],
   "source": [
    "age = 45\n",
    "if age<18:\n",
    "    print('children')\n",
    "    if (18<age<50):\n",
    "        print('adult')\n",
    "    elif(age>50):\n",
    "        print('senioradult')\n",
    "    else:\n",
    "        print('i dont know')"
   ]
  },
  {
   "cell_type": "code",
   "execution_count": 62,
   "id": "e9c81f0d",
   "metadata": {},
   "outputs": [
    {
     "name": "stdout",
     "output_type": "stream",
     "text": [
      "children\n",
      "adult\n"
     ]
    }
   ],
   "source": [
    "age = 45\n",
    "if age>18:\n",
    "    print('children')\n",
    "    if (18<age<50):\n",
    "        print('adult')\n",
    "    elif(age>50):\n",
    "        print('senioradult')"
   ]
  },
  {
   "cell_type": "code",
   "execution_count": 59,
   "id": "69f0b3b1",
   "metadata": {},
   "outputs": [
    {
     "ename": "SyntaxError",
     "evalue": "invalid syntax (310373996.py, line 6)",
     "output_type": "error",
     "traceback": [
      "\u001b[1;36m  Input \u001b[1;32mIn [59]\u001b[1;36m\u001b[0m\n\u001b[1;33m    else(age>50):\u001b[0m\n\u001b[1;37m        ^\u001b[0m\n\u001b[1;31mSyntaxError\u001b[0m\u001b[1;31m:\u001b[0m invalid syntax\n"
     ]
    }
   ],
   "source": [
    "age = 45\n",
    "if age<18:\n",
    "    print('children')\n",
    "elif (age<50):\n",
    "    print('adult')\n",
    "else(age>50):\n",
    "    print('senioradult')"
   ]
  },
  {
   "cell_type": "code",
   "execution_count": 61,
   "id": "c10ba271",
   "metadata": {},
   "outputs": [
    {
     "name": "stdout",
     "output_type": "stream",
     "text": [
      "adult\n"
     ]
    }
   ],
   "source": [
    "age = 45\n",
    "if age<18:\n",
    "    print('children')\n",
    "elif (age<50):\n",
    "    print('adult')\n",
    "else:\n",
    "    print('senioradult')"
   ]
  },
  {
   "cell_type": "code",
   "execution_count": 63,
   "id": "1ee00ab3",
   "metadata": {},
   "outputs": [
    {
     "name": "stdout",
     "output_type": "stream",
     "text": [
      "<class 'int'>\n",
      "adult\n"
     ]
    }
   ],
   "source": [
    "age = 45\n",
    "print(type(age))\n",
    "if isinstance(age,float) or isinstance(age,int): \n",
    "    if age<18:\n",
    "        print('children')\n",
    "    elif (age<50):\n",
    "        print('adult')\n",
    "    else:\n",
    "        print('senioradult')"
   ]
  },
  {
   "cell_type": "code",
   "execution_count": 64,
   "id": "f4458505",
   "metadata": {},
   "outputs": [
    {
     "ename": "SyntaxError",
     "evalue": "invalid syntax (449740362.py, line 9)",
     "output_type": "error",
     "traceback": [
      "\u001b[1;36m  Input \u001b[1;32mIn [64]\u001b[1;36m\u001b[0m\n\u001b[1;33m    else:\u001b[0m\n\u001b[1;37m    ^\u001b[0m\n\u001b[1;31mSyntaxError\u001b[0m\u001b[1;31m:\u001b[0m invalid syntax\n"
     ]
    }
   ],
   "source": [
    "age = 45\n",
    "if isinstance(age,float) or isinstance(age,int): \n",
    "    if age<18:\n",
    "        print('children')\n",
    "    elif (age<50):\n",
    "        print('adult')\n",
    "    else:\n",
    "        print('senioradult')\n",
    "    else:\n",
    "        print('please provide a valid input')"
   ]
  },
  {
   "cell_type": "code",
   "execution_count": 65,
   "id": "04e32c11",
   "metadata": {},
   "outputs": [
    {
     "name": "stdout",
     "output_type": "stream",
     "text": [
      "adult\n"
     ]
    }
   ],
   "source": [
    "age = 45\n",
    "if isinstance(age,float) or isinstance(age,int): \n",
    "    if age<18:\n",
    "        print('children')\n",
    "    elif (age<50):\n",
    "        print('adult')\n",
    "    else:\n",
    "        print('senioradult')\n",
    "else:\n",
    "    print('please provide a valid input')"
   ]
  },
  {
   "cell_type": "code",
   "execution_count": 66,
   "id": "14de9141",
   "metadata": {},
   "outputs": [
    {
     "ename": "SyntaxError",
     "evalue": "invalid syntax (3804182494.py, line 2)",
     "output_type": "error",
     "traceback": [
      "\u001b[1;36m  Input \u001b[1;32mIn [66]\u001b[1;36m\u001b[0m\n\u001b[1;33m    if isinstance(age,float) or isinstance(age,int) or isinstance(age,101) and isinstance(age,(-)):\u001b[0m\n\u001b[1;37m                                                                                                ^\u001b[0m\n\u001b[1;31mSyntaxError\u001b[0m\u001b[1;31m:\u001b[0m invalid syntax\n"
     ]
    }
   ],
   "source": [
    "age = 45\n",
    "if isinstance(age,float) or isinstance(age,int) or isinstance(age,101) and isinstance(age,(-)): \n",
    "    if age<18:\n",
    "        print('children')\n",
    "    elif (age<50):\n",
    "        print('adult')\n",
    "    else:\n",
    "        print('senioradult')\n",
    "    else:\n",
    "        print('please provide a valid input')"
   ]
  },
  {
   "cell_type": "code",
   "execution_count": 67,
   "id": "f34100ac",
   "metadata": {},
   "outputs": [
    {
     "ename": "SyntaxError",
     "evalue": "invalid syntax (3682132962.py, line 9)",
     "output_type": "error",
     "traceback": [
      "\u001b[1;36m  Input \u001b[1;32mIn [67]\u001b[1;36m\u001b[0m\n\u001b[1;33m    else:\u001b[0m\n\u001b[1;37m    ^\u001b[0m\n\u001b[1;31mSyntaxError\u001b[0m\u001b[1;31m:\u001b[0m invalid syntax\n"
     ]
    }
   ],
   "source": [
    "age = -1\n",
    "if isinstance(age,float) or isinstance(age,int) or isinstance(age,101) and isinstance(age,(-1)): \n",
    "    if age<18:\n",
    "        print('children')\n",
    "    elif (age<50):\n",
    "        print('adult')\n",
    "    else:\n",
    "        print('senioradult')\n",
    "    else:\n",
    "        print('please provide a valid input')"
   ]
  },
  {
   "cell_type": "code",
   "execution_count": 68,
   "id": "5c36d3fe",
   "metadata": {},
   "outputs": [
    {
     "name": "stdout",
     "output_type": "stream",
     "text": [
      "children\n"
     ]
    }
   ],
   "source": [
    "age = -1\n",
    "if isinstance(age,float) or isinstance(age,int) or isinstance(age,101) and isinstance(age,(-1)): \n",
    "    if age<18:\n",
    "        print('children')\n",
    "    elif (age<50):\n",
    "        print('adult')\n",
    "    else:\n",
    "        print('senioradult')\n",
    "else:\n",
    "    print('please provide a valid input')"
   ]
  },
  {
   "cell_type": "code",
   "execution_count": 69,
   "id": "1bbf055e",
   "metadata": {},
   "outputs": [
    {
     "ename": "IndentationError",
     "evalue": "expected an indented block (3592490017.py, line 4)",
     "output_type": "error",
     "traceback": [
      "\u001b[1;36m  Input \u001b[1;32mIn [69]\u001b[1;36m\u001b[0m\n\u001b[1;33m    else:\u001b[0m\n\u001b[1;37m    ^\u001b[0m\n\u001b[1;31mIndentationError\u001b[0m\u001b[1;31m:\u001b[0m expected an indented block\n"
     ]
    }
   ],
   "source": [
    "age = -1\n",
    "if isinstance(age,float) or isinstance(age,int) or isinstance(age,101) and isinstance(age,(-1)): \n",
    "    \n",
    "else:\n",
    "    print('please provide a valid input')"
   ]
  },
  {
   "cell_type": "code",
   "execution_count": 71,
   "id": "14754130",
   "metadata": {},
   "outputs": [
    {
     "name": "stdout",
     "output_type": "stream",
     "text": [
      "please provide a valid input\n"
     ]
    }
   ],
   "source": [
    "age = -1\n",
    "if isinstance(age,float) or isinstance(age,int):\n",
    "    if age<0 or age>100:\n",
    "        print('please provide a valid input')\n",
    "    elif age<18:\n",
    "        print('children')\n",
    "    elif (age<50):\n",
    "        print('adult')\n",
    "    else:\n",
    "        print('senioradult')\n",
    "else:\n",
    "    print('please provide a valid input')"
   ]
  },
  {
   "cell_type": "code",
   "execution_count": 72,
   "id": "ab887c2f",
   "metadata": {},
   "outputs": [
    {
     "name": "stdout",
     "output_type": "stream",
     "text": [
      "age:18\n",
      "adult\n"
     ]
    }
   ],
   "source": [
    "age = 17.5\n",
    "if isinstance(age,float) or isinstance(age,int):\n",
    "    age_deci = age -int(age)\n",
    "    if age_deci < 0.5 :\n",
    "        age = int(age)\n",
    "    else:\n",
    "        age =int(age) + 1\n",
    "        print('age:' +str(age))\n",
    "    if age<0 or age>100:\n",
    "        print('please provide a valid input')\n",
    "    elif age<18:\n",
    "        print('children')\n",
    "    elif (age<50):\n",
    "        print('adult')\n",
    "    else:\n",
    "        print('senioradult')\n",
    "else:\n",
    "    print('please provide a valid input')"
   ]
  },
  {
   "cell_type": "code",
   "execution_count": 73,
   "id": "1fd18d1e",
   "metadata": {},
   "outputs": [
    {
     "name": "stdout",
     "output_type": "stream",
     "text": [
      "age:14\n",
      "children\n"
     ]
    }
   ],
   "source": [
    "age = 13.8\n",
    "if isinstance(age,float) or isinstance(age,int):\n",
    "    age_deci = age -int(age)\n",
    "    if age_deci < 0.5 :\n",
    "        age = int(age)\n",
    "    else:\n",
    "        age =int(age) + 1\n",
    "        print('age:' +str(age))\n",
    "    if age<0 or age>100:\n",
    "        print('please provide a valid input')\n",
    "    elif age<18:\n",
    "        print('children')\n",
    "    elif (age<50):\n",
    "        print('adult')\n",
    "    else:\n",
    "        print('senioradult')\n",
    "else:\n",
    "    print('please provide a valid input')"
   ]
  },
  {
   "cell_type": "code",
   "execution_count": 74,
   "id": "e92332c5",
   "metadata": {},
   "outputs": [
    {
     "name": "stdout",
     "output_type": "stream",
     "text": [
      "please provide a valid input\n"
     ]
    }
   ],
   "source": [
    "age = -5.2\n",
    "if ((isinstance(age,float) or isinstance(age,int)) and not(0>age or 120<age)):\n",
    "    age_deci = age -int(age)\n",
    "    if age_deci < 0.5 :\n",
    "        age = int(age)\n",
    "    else:\n",
    "        age =int(age) + 1\n",
    "        print('age:' +str(age))\n",
    "    if age<0 or age>100:\n",
    "        print('please provide a valid input')\n",
    "    elif age<18:\n",
    "        print('children')\n",
    "    elif (age<50):\n",
    "        print('adult')\n",
    "    else:\n",
    "        print('senioradult')\n",
    "else:\n",
    "    print('please provide a valid input')"
   ]
  },
  {
   "cell_type": "code",
   "execution_count": null,
   "id": "77907e9c",
   "metadata": {},
   "outputs": [],
   "source": []
  }
 ],
 "metadata": {
  "kernelspec": {
   "display_name": "Python 3 (ipykernel)",
   "language": "python",
   "name": "python3"
  },
  "language_info": {
   "codemirror_mode": {
    "name": "ipython",
    "version": 3
   },
   "file_extension": ".py",
   "mimetype": "text/x-python",
   "name": "python",
   "nbconvert_exporter": "python",
   "pygments_lexer": "ipython3",
   "version": "3.9.12"
  }
 },
 "nbformat": 4,
 "nbformat_minor": 5
}
